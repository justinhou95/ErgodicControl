{
 "cells": [
  {
   "cell_type": "code",
   "execution_count": 1,
   "metadata": {},
   "outputs": [],
   "source": [
    "import numpy as np\n",
    "import matplotlib.pyplot as plt\n",
    "import tensorflow as tf\n",
    "from tensorflow import keras\n",
    "from tensorflow.keras import layers\n",
    "tf.random.set_seed(0)"
   ]
  },
  {
   "cell_type": "markdown",
   "metadata": {},
   "source": [
    "Consider control of Brownian motion\n",
    "$$\n",
    "dX_{t} = dW_{t} + u_{t}dt\n",
    "$$\n",
    "\n",
    "Ergodic control\n",
    "$$\n",
    "\\min_{u}\\liminf_{T\\to\\infty}\\frac{1}{T}E\\big[\\int_{0}^{T}c(X_t,u_t)dt\\big]\n",
    "$$\n",
    "\n",
    "where\n",
    "$$\n",
    "c(X_{t},u_{t}) = X_{t}^{2} + u_{t}^{2}\n",
    "$$"
   ]
  },
  {
   "cell_type": "code",
   "execution_count": 2,
   "metadata": {},
   "outputs": [
    {
     "name": "stdout",
     "output_type": "stream",
     "text": [
      "Model: \"control_NN\"\n",
      "_________________________________________________________________\n",
      "Layer (type)                 Output Shape              Param #   \n",
      "=================================================================\n",
      "input_1 (InputLayer)         [(None, 1)]               0         \n",
      "_________________________________________________________________\n",
      "dense (Dense)                (None, 8)                 16        \n",
      "_________________________________________________________________\n",
      "dense_1 (Dense)              (None, 1)                 9         \n",
      "=================================================================\n",
      "Total params: 25\n",
      "Trainable params: 25\n",
      "Non-trainable params: 0\n",
      "_________________________________________________________________\n"
     ]
    }
   ],
   "source": [
    "# Control Neural Network: u(x)\n",
    "\n",
    "inputs = keras.Input(shape=(1))\n",
    "l1 = layers.Dense(8, activation = 'relu')\n",
    "l2= layers.Dense(1, activation = 'linear')\n",
    "outputs = l1(inputs)\n",
    "outputs = l2(outputs)\n",
    "# outputs = -inputs\n",
    "control_NN = keras.Model(inputs=inputs, outputs=outputs, name = 'control_NN')\n",
    "control_NN.summary()"
   ]
  },
  {
   "cell_type": "code",
   "execution_count": 3,
   "metadata": {},
   "outputs": [
    {
     "data": {
      "image/png": "[encoded data removed]",
      "text/plain": [
       "<Figure size 432x288 with 1 Axes>"
      ]
     },
     "metadata": {
      "needs_background": "light"
     },
     "output_type": "display_data"
    }
   ],
   "source": [
    "control_NN.compile(loss = 'mse')\n",
    "xgrid = np.linspace(-10,10,201)\n",
    "y = control_NN.predict(xgrid)\n",
    "plt.plot(xgrid,y)\n",
    "plt.grid()"
   ]
  },
  {
   "cell_type": "code",
   "execution_count": 4,
   "metadata": {},
   "outputs": [
    {
     "name": "stdout",
     "output_type": "stream",
     "text": [
      "Model: \"value_NN\"\n",
      "_________________________________________________________________\n",
      "Layer (type)                 Output Shape              Param #   \n",
      "=================================================================\n",
      "input_2 (InputLayer)         [(None, 1)]               0         \n",
      "_________________________________________________________________\n",
      "tf_op_layer_Square (TensorFl [(None, 1)]               0         \n",
      "=================================================================\n",
      "Total params: 0\n",
      "Trainable params: 0\n",
      "Non-trainable params: 0\n",
      "_________________________________________________________________\n"
     ]
    }
   ],
   "source": [
    "# Value Neural Network: V(x)\n",
    "\n",
    "inputs = keras.Input(shape=(1))\n",
    "l1 = layers.Dense(8, activation = 'tanh')\n",
    "l2= layers.Dense(1, activation = 'relu')\n",
    "outputs = l1(inputs)\n",
    "outputs = l2(outputs)\n",
    "outputs = tf.math.square(inputs)\n",
    "value_NN = keras.Model(inputs=inputs, outputs=outputs, name = 'value_NN')\n",
    "value_NN.summary()"
   ]
  },
  {
   "cell_type": "code",
   "execution_count": 5,
   "metadata": {},
   "outputs": [
    {
     "data": {
      "image/png": "[encoded data removed]",
      "text/plain": [
       "<Figure size 432x288 with 1 Axes>"
      ]
     },
     "metadata": {
      "needs_background": "light"
     },
     "output_type": "display_data"
    }
   ],
   "source": [
    "value_NN.compile(loss = 'mse')\n",
    "xgrid = np.linspace(-10,10,201)\n",
    "y = value_NN.predict(xgrid)\n",
    "plt.plot(xgrid,y)\n",
    "plt.grid()"
   ]
  },
  {
   "cell_type": "code",
   "execution_count": 6,
   "metadata": {},
   "outputs": [],
   "source": [
    "# Global Parameter\n",
    "steps = 10\n",
    "dt = 0.1\n",
    "sqrtdt = np.sqrt(dt)\n",
    "T = steps * dt\n",
    "M = 1000"
   ]
  },
  {
   "cell_type": "markdown",
   "metadata": {},
   "source": [
    "Let $X$ be controlled processes on $[0,\\infty)$ meshed with $0 = t_{0} \\leq t_{1} \\leq \\cdots $ with initial distribution $X_{0} \\sim \\mathcal{X}$ and $V_0, \\rho_0$ initiated. \n",
    "     \\begin{equation}\n",
    "          \\left\\{\n",
    "          \\begin{aligned}\n",
    "               \\rho_{n} &=  \\min_{u \\in U}\\frac{1}{\\triangle t_{n+1}}\\mathbb{E}\\Big[\\int_{t_{n}}^{t_{n+1}}c(X_{s},u_{s})ds + V_{n}(X_{t_{n+1}}) - V_{n}(X_{t_{n}})\\Big]\\\\\n",
    "               V_{n+1}(x) &= \\mathbb{E}\\big[\\int_{t_{n}}^{t_{n+1}}c(X_{s}^{x},u_{s})ds + V_{n}(X_{t_{n+1}}^x) -\\rho_{n} \\triangle t_{n+1} \\big]\n",
    "          \\end{aligned}\n",
    "          \\right.\n",
    "     \\end{equation}"
   ]
  },
  {
   "cell_type": "markdown",
   "metadata": {},
   "source": [
    "To avoid using monte carlo which leads to the curse of dimensionality, we attempt the machine learning approach computing the second line of algorithm\n",
    "\\begin{equation}\n",
    "       V_{n+1}(x) = \\arg\\min_{V^{\\theta} \\in \\mathcal{NN}}\\mathbb{E}\\Bigg[\\Bigg( \\int_{t_{n}}^{t_{n+1}}c(X_{s}^{x},u_{s})ds + V_{n}(X_{t_{n+1}}^x) -\\rho_{n} \\triangle t_{n+1} - V^{\\theta}(X_{t_{n}}) \\Bigg)^2\\Bigg] \\\\\n",
    "\\end{equation}"
   ]
  },
  {
   "cell_type": "code",
   "execution_count": 7,
   "metadata": {
    "scrolled": true
   },
   "outputs": [],
   "source": [
    "input_x = keras.Input(shape=(1))\n",
    "inputs = [input_x]\n",
    "X_start = input_x\n",
    "X_now = X_start\n",
    "loss = tf.zeros_like(X_now)\n",
    "loss_output = [loss]\n",
    "\n",
    "for i in range(steps):\n",
    "    input_dW = keras.Input(shape=(1))\n",
    "    inputs = inputs + [input_dW]\n",
    "    u_now = control_NN(X_now)\n",
    "    X_next  = X_now + input_dW + u_now * dt\n",
    "    loss_tmp = tf.math.square(X_now) + tf.math.square(u_now)\n",
    "    loss_output = loss_output + [loss_tmp]\n",
    "    loss = loss + loss_tmp\n",
    "    X_now = X_next\n",
    "outputs = loss / steps + (value_NN(X_now) - value_NN(X_start))/T\n",
    "\n",
    "control_main = keras.Model(inputs=inputs, outputs = outputs, name = 'control_main')\n",
    "control_terminal = keras.Model(inputs=inputs, outputs = X_now, name = 'control_terminal')\n",
    "control_loss = keras.Model(inputs=inputs, outputs = loss_output, name = 'control_loss')\n",
    "# control_loss.summary()\n",
    "\n",
    "def mean_loss(target_y, predicted_y):\n",
    "    return tf.reduce_mean(predicted_y - target_y)\n",
    "\n",
    "control_main.compile(loss = mean_loss)\n",
    "control_terminal.compile(loss = mean_loss)\n",
    "control_loss.compile(loss = mean_loss)"
   ]
  },
  {
   "cell_type": "code",
   "execution_count": 8,
   "metadata": {},
   "outputs": [],
   "source": [
    "def trainning_data(seed,X0,samplesM):\n",
    "    np.random.seed(seed)\n",
    "    x = [X0]\n",
    "    for i in range(steps):\n",
    "        x = x + [np.random.normal(0,sqrtdt,size = (samplesM,1))]\n",
    "    y = np.zeros(shape = (samplesM,1))\n",
    "    return x, y"
   ]
  },
  {
   "cell_type": "code",
   "execution_count": 9,
   "metadata": {},
   "outputs": [],
   "source": [
    "X0 = np.random.normal(0,np.sqrt(1/2),size = (M,1))\n",
    "# X0 = np.ones(shape = (M,1))\n",
    "# X0 = np.zeros(shape = (M,1))\n",
    "x_train, y_train = trainning_data(0,X0,M)\n",
    "x_valid, y_valid = trainning_data(1,X0,M)\n",
    "x_test, y_test = trainning_data(2,X0,M)"
   ]
  },
  {
   "cell_type": "code",
   "execution_count": 10,
   "metadata": {
    "scrolled": true
   },
   "outputs": [
    {
     "name": "stdout",
     "output_type": "stream",
     "text": [
      "1000/1000 [==============================] - 0s 298us/sample - loss: 3.4054\n",
      "Train on 1000 samples, validate on 1000 samples\n",
      "Epoch 1/50\n",
      "1000/1000 [==============================] - 1s 1ms/sample - loss: 2.9735 - val_loss: 2.7901\n",
      "Epoch 2/50\n",
      "1000/1000 [==============================] - 0s 216us/sample - loss: 2.5810 - val_loss: 2.4758\n",
      "Epoch 3/50\n",
      "1000/1000 [==============================] - 0s 232us/sample - loss: 2.3028 - val_loss: 2.2157\n",
      "Epoch 4/50\n",
      "1000/1000 [==============================] - 0s 218us/sample - loss: 2.0751 - val_loss: 1.9954\n",
      "Epoch 5/50\n",
      "1000/1000 [==============================] - 0s 235us/sample - loss: 1.8755 - val_loss: 1.8033\n",
      "Epoch 6/50\n",
      "1000/1000 [==============================] - 0s 200us/sample - loss: 1.6995 - val_loss: 1.6391\n",
      "Epoch 7/50\n",
      "1000/1000 [==============================] - 0s 218us/sample - loss: 1.5525 - val_loss: 1.4992\n",
      "Epoch 8/50\n",
      "1000/1000 [==============================] - 0s 216us/sample - loss: 1.4257 - val_loss: 1.3829\n",
      "Epoch 9/50\n",
      "1000/1000 [==============================] - 0s 232us/sample - loss: 1.3254 - val_loss: 1.2897\n",
      "Epoch 10/50\n",
      "1000/1000 [==============================] - 0s 217us/sample - loss: 1.2433 - val_loss: 1.2124\n",
      "Epoch 11/50\n",
      "1000/1000 [==============================] - 0s 218us/sample - loss: 1.1739 - val_loss: 1.1495\n",
      "Epoch 12/50\n",
      "1000/1000 [==============================] - 0s 216us/sample - loss: 1.1204 - val_loss: 1.1002\n",
      "Epoch 13/50\n",
      "1000/1000 [==============================] - 0s 217us/sample - loss: 1.0780 - val_loss: 1.0649\n",
      "Epoch 14/50\n",
      "1000/1000 [==============================] - 0s 216us/sample - loss: 1.0489 - val_loss: 1.0362\n",
      "Epoch 15/50\n",
      "1000/1000 [==============================] - 0s 218us/sample - loss: 1.0289 - val_loss: 1.0217\n",
      "Epoch 16/50\n",
      "1000/1000 [==============================] - 0s 218us/sample - loss: 1.0174 - val_loss: 1.0109\n",
      "Epoch 17/50\n",
      "1000/1000 [==============================] - 0s 212us/sample - loss: 1.0094 - val_loss: 1.0043\n",
      "Epoch 18/50\n",
      "1000/1000 [==============================] - 0s 221us/sample - loss: 1.0045 - val_loss: 0.9996\n",
      "Epoch 19/50\n",
      "1000/1000 [==============================] - 0s 213us/sample - loss: 1.0017 - val_loss: 0.9984\n",
      "Epoch 20/50\n",
      "1000/1000 [==============================] - 0s 219us/sample - loss: 0.9998 - val_loss: 0.9964\n",
      "Epoch 21/50\n",
      "1000/1000 [==============================] - 0s 216us/sample - loss: 0.9985 - val_loss: 0.9959\n",
      "Epoch 22/50\n",
      "1000/1000 [==============================] - 0s 218us/sample - loss: 0.9979 - val_loss: 0.9968\n",
      "Epoch 23/50\n",
      "1000/1000 [==============================] - 0s 217us/sample - loss: 0.9974 - val_loss: 0.9954\n",
      "Epoch 24/50\n",
      "1000/1000 [==============================] - 0s 213us/sample - loss: 0.9969 - val_loss: 0.9956\n",
      "Epoch 25/50\n",
      "1000/1000 [==============================] - 0s 222us/sample - loss: 0.9966 - val_loss: 0.9959\n",
      "Epoch 26/50\n",
      "1000/1000 [==============================] - 0s 218us/sample - loss: 0.9963 - val_loss: 0.9952\n",
      "Epoch 27/50\n",
      "1000/1000 [==============================] - 0s 216us/sample - loss: 0.9958 - val_loss: 0.9945\n",
      "Epoch 28/50\n",
      "1000/1000 [==============================] - 0s 217us/sample - loss: 0.9959 - val_loss: 0.9946\n",
      "Epoch 29/50\n",
      "1000/1000 [==============================] - 0s 248us/sample - loss: 0.9956 - val_loss: 0.9954\n",
      "Epoch 30/50\n",
      "1000/1000 [==============================] - 0s 265us/sample - loss: 0.9955 - val_loss: 0.9956\n",
      "Epoch 31/50\n",
      "1000/1000 [==============================] - 0s 235us/sample - loss: 0.9953 - val_loss: 0.9953\n",
      "Epoch 32/50\n",
      "1000/1000 [==============================] - 0s 218us/sample - loss: 0.9953 - val_loss: 0.9954\n",
      "Epoch 33/50\n",
      "1000/1000 [==============================] - 0s 218us/sample - loss: 0.9953 - val_loss: 0.9951\n",
      "Epoch 34/50\n",
      "1000/1000 [==============================] - 0s 216us/sample - loss: 0.9950 - val_loss: 0.9950\n",
      "Epoch 35/50\n",
      "1000/1000 [==============================] - 0s 234us/sample - loss: 0.9948 - val_loss: 0.9941\n",
      "Epoch 36/50\n",
      "1000/1000 [==============================] - 0s 217us/sample - loss: 0.9949 - val_loss: 0.9943\n",
      "Epoch 37/50\n",
      "1000/1000 [==============================] - 0s 216us/sample - loss: 0.9946 - val_loss: 0.9947\n",
      "Epoch 38/50\n",
      "1000/1000 [==============================] - 0s 218us/sample - loss: 0.9947 - val_loss: 0.9950\n",
      "Epoch 39/50\n",
      "1000/1000 [==============================] - 0s 213us/sample - loss: 0.9945 - val_loss: 0.9941\n",
      "Epoch 40/50\n",
      "1000/1000 [==============================] - 0s 238us/sample - loss: 0.9946 - val_loss: 0.9941\n",
      "Epoch 41/50\n",
      "1000/1000 [==============================] - 0s 216us/sample - loss: 0.9944 - val_loss: 0.9944\n",
      "Epoch 42/50\n",
      "1000/1000 [==============================] - 0s 217us/sample - loss: 0.9942 - val_loss: 0.9942\n",
      "Epoch 43/50\n",
      "1000/1000 [==============================] - 0s 218us/sample - loss: 0.9942 - val_loss: 0.9943\n",
      "Epoch 44/50\n",
      "1000/1000 [==============================] - 0s 216us/sample - loss: 0.9940 - val_loss: 0.9942\n",
      "Epoch 45/50\n",
      "1000/1000 [==============================] - 0s 218us/sample - loss: 0.9940 - val_loss: 0.9943\n",
      "Epoch 46/50\n",
      "1000/1000 [==============================] - 0s 217us/sample - loss: 0.9941 - val_loss: 0.9945\n",
      "Epoch 47/50\n",
      "1000/1000 [==============================] - 0s 215us/sample - loss: 0.9939 - val_loss: 0.9941\n",
      "Epoch 48/50\n",
      "1000/1000 [==============================] - 0s 218us/sample - loss: 0.9936 - val_loss: 0.9940\n",
      "Epoch 49/50\n",
      "1000/1000 [==============================] - 0s 225us/sample - loss: 0.9936 - val_loss: 0.9939\n",
      "Epoch 50/50\n",
      "1000/1000 [==============================] - 0s 223us/sample - loss: 0.9936 - val_loss: 0.9941\n"
     ]
    },
    {
     "data": {
      "text/plain": [
       "<tensorflow.python.keras.callbacks.History at 0x278df7323c8>"
      ]
     },
     "execution_count": 10,
     "metadata": {},
     "output_type": "execute_result"
    }
   ],
   "source": [
    "control_main.evaluate(x_train,y_train)\n",
    "control_main.fit(x_train,y_train,epochs = 50,validation_data = (x_valid,y_valid), verbose = 1)"
   ]
  },
  {
   "cell_type": "code",
   "execution_count": 11,
   "metadata": {},
   "outputs": [
    {
     "data": {
      "image/png": "[encoded data removed]",
      "text/plain": [
       "<Figure size 432x288 with 1 Axes>"
      ]
     },
     "metadata": {
      "needs_background": "light"
     },
     "output_type": "display_data"
    }
   ],
   "source": [
    "control_NN.compile(loss = 'mse')\n",
    "xgrid = np.linspace(-10,10,201)\n",
    "y = control_NN.predict(xgrid)\n",
    "plt.plot(xgrid,y)\n",
    "plt.grid()"
   ]
  }
 ],
 "metadata": {
  "kernelspec": {
   "display_name": "Python 3",
   "language": "python",
   "name": "python3"
  },
  "language_info": {
   "codemirror_mode": {
    "name": "ipython",
    "version": 3
   },
   "file_extension": ".py",
   "mimetype": "text/x-python",
   "name": "python",
   "nbconvert_exporter": "python",
   "pygments_lexer": "ipython3",
   "version": "3.7.2"
  }
 },
 "nbformat": 4,
 "nbformat_minor": 4
}
