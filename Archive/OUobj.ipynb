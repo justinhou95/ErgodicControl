{
 "cells": [
  {
   "cell_type": "code",
   "execution_count": 50,
   "metadata": {},
   "outputs": [],
   "source": [
    "%matplotlib notebook\n",
    "from importlib import reload  \n",
    "import numpy as np\n",
    "import matplotlib.pyplot as plt\n",
    "import tensorflow as tf\n",
    "from tensorflow import keras\n",
    "from tensorflow.keras import layers\n",
    "tf.random.set_seed(1)\n",
    "import OUmodel\n",
    "reload(OUmodel)\n",
    "from mpl_toolkits import mplot3d "
   ]
  },
  {
   "cell_type": "code",
   "execution_count": 51,
   "metadata": {},
   "outputs": [],
   "source": [
    "def NN_plot(nn):\n",
    "    nn.compile(loss = 'mse')\n",
    "    xgrid = np.linspace(-10,10,201)\n",
    "    y = nn.predict(xgrid)\n",
    "    plt.plot(xgrid,y)\n",
    "    plt.grid()\n",
    "def plot_compare():\n",
    "    NN_plot(model.Vnn)\n",
    "    xgrid = np.linspace(-10,10,201)\n",
    "    plt.plot(xgrid, xgrid**2)\n",
    "    plt.show()\n",
    "    NN_plot(model.unn)\n",
    "    plt.plot(xgrid, xgrid)\n",
    "    plt.show()\n",
    "    NN_plot(model.dVnn)\n",
    "    plt.plot(xgrid, 2*xgrid)\n",
    "    plt.show()\n",
    "    tmp = model.rhonn.predict(np.ones(1))[0,0]\n",
    "    print('Optimal ergodic cost is: ',tmp)\n",
    "    \n",
    "def plotNN2d(NN):\n",
    "    fig = plt.figure() \n",
    "    ax = plt.axes(projection ='3d') \n",
    "    x = y = np.arange(-3.0, 3.0, 0.05)\n",
    "    X, Y = np.meshgrid(x, y)\n",
    "    # z = (np.sin(X **2) + np.cos(Y **2) ) \n",
    "    XY = np.concatenate([np.reshape(X,[X.shape[0]*X.shape[1],1]),np.reshape(Y,[Y.shape[0]*Y.shape[1],1])],axis = 1)\n",
    "    Z = np.reshape(NN.predict(XY),X.shape)\n",
    "    ax.plot_surface(X, Y, Z) \n",
    "    ax.set_xlabel('X Label')\n",
    "    ax.set_ylabel('Y Label')\n",
    "    ax.set_zlabel('Z Label')\n",
    "    plt.show()"
   ]
  },
  {
   "cell_type": "markdown",
   "metadata": {},
   "source": [
    "## Discretization"
   ]
  },
  {
   "cell_type": "code",
   "execution_count": 52,
   "metadata": {},
   "outputs": [],
   "source": [
    "# Discreize parameters\n",
    "steps = 20\n",
    "dt = 0.01\n",
    "sqrtdt = np.sqrt(dt)\n",
    "T = steps * dt # 0.2\n",
    "M = 10000\n",
    "gamma = 0\n",
    "\n",
    "X = np.random.normal(0,np.sqrt(1/2),size = (M,1))\n",
    "Y = np.random.normal(0,0,size = (M,1))\n",
    "U = Y -  X\n",
    "Z = np.concatenate([U,Y],axis = 1)\n",
    "\n",
    "# mean = [0,0]\n",
    "# cov = [[1/16,1/8],[1/8,1/2]]\n",
    "# Z = np.random.multivariate_normal(mean, cov, M)\n",
    "# U = Z[:,:1]\n",
    "# Y = Z[:,1:]"
   ]
  },
  {
   "cell_type": "code",
   "execution_count": 53,
   "metadata": {},
   "outputs": [],
   "source": [
    "model = OUmodel.MODEL(steps,dt,T,M,gamma)\n",
    "model.start(U, Y)\n",
    "model.traindata(1)\n",
    "# model.build()"
   ]
  },
  {
   "cell_type": "markdown",
   "metadata": {},
   "source": [
    "### Old Method"
   ]
  },
  {
   "cell_type": "code",
   "execution_count": 5,
   "metadata": {
    "scrolled": true
   },
   "outputs": [],
   "source": [
    "# model.opt_nn.evaluate(model.x_test,model.y_test, verbose = 1)\n",
    "# custom_optimizer = keras.optimizers.Adam(learning_rate = 0.01)\n",
    "# model.bm_nn.compile(loss = 'mse', optimizer = custom_optimizer)\n",
    "# model.bm_nn.fit(model.x_train,model.y_train,validation_data = (model.x_val,model.y_val), epochs =10, verbose = 1)\n",
    "# model.bm_nn.compile(loss = 'mse', optimizer = 'Adam')\n",
    "# model.bm_nn.fit(model.x_train,model.y_train,validation_data = (model.x_val,model.y_val), epochs =5, verbose = 1)\n",
    "# model.rhonn.predict(np.ones(1))[0,0]\n",
    "# plot_compare()"
   ]
  },
  {
   "cell_type": "code",
   "execution_count": 6,
   "metadata": {},
   "outputs": [],
   "source": [
    "# print(model.unn.get_weights())\n",
    "# print(model.rhonn.get_weights())\n",
    "# print(model.dVnn.get_weights())\n",
    "# print(model.Vnn.get_weights())"
   ]
  },
  {
   "cell_type": "markdown",
   "metadata": {},
   "source": [
    "### New Method"
   ]
  },
  {
   "cell_type": "code",
   "execution_count": 58,
   "metadata": {},
   "outputs": [
    {
     "data": {
      "text/plain": [
       "(array([[81.]], dtype=float32), array([[-0.25728285]], dtype=float32))"
      ]
     },
     "execution_count": 58,
     "metadata": {},
     "output_type": "execute_result"
    }
   ],
   "source": [
    "# model.u_nn.set_weights([np.array([[-1],[1]], dtype='float32')])\n",
    "# model.dV_nn.set_weights([np.array([[-2],[2]], dtype='float32')])\n",
    "model.V_nn.set_weights([np.array([[1],[-1]], dtype='float32')])\n",
    "# model.rho_nn.set_weights([np.array([[1]], dtype='float32')])\n",
    "\n",
    "model.V_nn.predict([[10,1]]),\\\n",
    "model.u_nn.predict([[10,1]])"
   ]
  },
  {
   "cell_type": "code",
   "execution_count": 49,
   "metadata": {},
   "outputs": [],
   "source": [
    "# plotNN2d(model.V_nn)\n",
    "# plotNN2d(model.u_nn)"
   ]
  },
  {
   "cell_type": "code",
   "execution_count": 9,
   "metadata": {
    "scrolled": true
   },
   "outputs": [
    {
     "name": "stdout",
     "output_type": "stream",
     "text": [
      "10000/10000 [==============================] - 4s 440us/sample - loss: 0.0041\n"
     ]
    }
   ],
   "source": [
    "custom_optimizer = keras.optimizers.Adam(learning_rate = 0.01)\n",
    "model.opt_nn.evaluate(model.x_train,model.y_train, verbose = 1)\n",
    "model.main_nn.compile(loss = 'mse', optimizer = custom_optimizer)"
   ]
  },
  {
   "cell_type": "code",
   "execution_count": 10,
   "metadata": {
    "scrolled": true
   },
   "outputs": [
    {
     "name": "stdout",
     "output_type": "stream",
     "text": [
      "Train on 10000 samples, validate on 10000 samples\n",
      "Epoch 1/10\n",
      "10000/10000 [==============================] - 14s 1ms/sample - loss: 0.0495 - val_loss: 0.0220\n",
      "Epoch 2/10\n",
      "10000/10000 [==============================] - 7s 684us/sample - loss: 0.0159 - val_loss: 0.0042\n",
      "Epoch 3/10\n",
      "10000/10000 [==============================] - 7s 686us/sample - loss: 0.0021 - val_loss: 0.0017\n",
      "Epoch 4/10\n",
      "10000/10000 [==============================] - 7s 688us/sample - loss: 0.0018 - val_loss: 0.0019\n",
      "Epoch 5/10\n",
      "10000/10000 [==============================] - 7s 687us/sample - loss: 0.0018 - val_loss: 0.0017\n",
      "Epoch 6/10\n",
      "10000/10000 [==============================] - 7s 681us/sample - loss: 0.0018 - val_loss: 0.0017\n",
      "Epoch 7/10\n",
      "10000/10000 [==============================] - 7s 693us/sample - loss: 0.0018 - val_loss: 0.0017\n",
      "Epoch 8/10\n",
      "10000/10000 [==============================] - 7s 683us/sample - loss: 0.0018 - val_loss: 0.0017\n",
      "Epoch 9/10\n",
      "10000/10000 [==============================] - 7s 681us/sample - loss: 0.0018 - val_loss: 0.0017\n",
      "Epoch 10/10\n",
      "10000/10000 [==============================] - 7s 686us/sample - loss: 0.0018 - val_loss: 0.0019\n"
     ]
    },
    {
     "data": {
      "text/plain": [
       "<tensorflow.python.keras.callbacks.History at 0x1cb1add6518>"
      ]
     },
     "execution_count": 10,
     "metadata": {},
     "output_type": "execute_result"
    }
   ],
   "source": [
    "model.main_nn.fit(model.x_train,model.y_train,validation_data = (model.x_val,model.y_val), epochs =10, verbose = 1)"
   ]
  },
  {
   "cell_type": "code",
   "execution_count": 24,
   "metadata": {
    "scrolled": true
   },
   "outputs": [
    {
     "name": "stdout",
     "output_type": "stream",
     "text": [
      "[array([[ 1.],\n",
      "       [-1.]], dtype=float32)]\n",
      "[array([[1.]], dtype=float32)]\n",
      "[array([[ 1.],\n",
      "       [-1.]], dtype=float32)]\n",
      "[array([[ 1.],\n",
      "       [-1.]], dtype=float32)]\n"
     ]
    }
   ],
   "source": [
    "print(model.u_nn.get_weights())\n",
    "print(model.rho_nn.get_weights())\n",
    "print(model.dV_nn.get_weights())\n",
    "print(model.V_nn.get_weights())"
   ]
  },
  {
   "cell_type": "code",
   "execution_count": 47,
   "metadata": {},
   "outputs": [],
   "source": [
    "model.u_nn.set_weights([np.array([[-1],[1]], dtype='float32')])\n",
    "# model.dV_nn.set_weights([np.array([[-2],[2]], dtype='float32')])\n",
    "model.V_nn.set_weights([np.array([[1],[-1]], dtype='float32')])\n",
    "model.rho_nn.set_weights([np.array([[1]], dtype='float32')])"
   ]
  },
  {
   "cell_type": "code",
   "execution_count": 15,
   "metadata": {},
   "outputs": [
    {
     "name": "stdout",
     "output_type": "stream",
     "text": [
      "10000/10000 [==============================] - 3s 314us/sample - loss: 0.4334s - loss: 0.4\n"
     ]
    },
    {
     "data": {
      "text/plain": [
       "0.43338653557300566"
      ]
     },
     "execution_count": 15,
     "metadata": {},
     "output_type": "execute_result"
    }
   ],
   "source": [
    "model.main_nn.evaluate(model.x_train,model.y_train)"
   ]
  },
  {
   "cell_type": "code",
   "execution_count": null,
   "metadata": {
    "scrolled": true
   },
   "outputs": [],
   "source": [
    "# model.main_nn.compile(loss = 'mse' , optimizer = 'Adam')\n",
    "# model.main_nn.fit(model.x_train,model.y_train,validation_data = (model.x_val,model.y_val), epochs =100, verbose = 1)"
   ]
  },
  {
   "cell_type": "code",
   "execution_count": null,
   "metadata": {},
   "outputs": [],
   "source": [
    "# model.main_nn.evaluate(model.x_test,model.y_test)\n",
    "# model.opt_nn.evaluate(model.x_test,model.y_test)"
   ]
  },
  {
   "cell_type": "code",
   "execution_count": null,
   "metadata": {},
   "outputs": [],
   "source": [
    "# Z_opt_end = model.opt_end_nn.predict(model.x_train)\n",
    "# Z_end = model.end_nn.predict(model.x_train)\n",
    "# print('start loss:',model.loss(Z).mean())\n",
    "# print('optimal end loss:',model.loss(Z_opt_end).mean())\n",
    "# print('numerical loss:',model.loss(Z_end).mean())\n",
    "# print('theory loss:',model.rho_optimal)\n",
    "# tmp = model.rho_nn.predict(np.zeros(1))[0,0]\n",
    "# print('Rho_nn is: ',tmp)"
   ]
  },
  {
   "cell_type": "markdown",
   "metadata": {},
   "source": [
    "u linear1d, V elu nn, dV linear1d, steps 20, samples 10000, good result\n",
    "\n",
    "u linear1d, V elu nn + square, dV linear1d, steps 20, samples 10000, good result\n",
    "\n",
    "u linear1d, V elu nn, dV linear1d, steps 20, samples 10000, over fitting\n",
    "\n",
    "u linear2d, V elu nn + square 1d, dV linear2d, steps 20, samples 10000, good result\n",
    "\n",
    "u linear2d, V linear + square 2d, dV linear2d, steps 20, samples 10000, over fitting\n",
    "\n",
    "u linear2d, V optimal, dV linear2d, steps 20, samples 10000, good result"
   ]
  }
 ],
 "metadata": {
  "kernelspec": {
   "display_name": "Python 3",
   "language": "python",
   "name": "python3"
  },
  "language_info": {
   "codemirror_mode": {
    "name": "ipython",
    "version": 3
   },
   "file_extension": ".py",
   "mimetype": "text/x-python",
   "name": "python",
   "nbconvert_exporter": "python",
   "pygments_lexer": "ipython3",
   "version": "3.7.2"
  }
 },
 "nbformat": 4,
 "nbformat_minor": 4
}
