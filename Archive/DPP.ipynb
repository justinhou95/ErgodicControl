{
 "cells": [
  {
   "cell_type": "code",
   "execution_count": 1,
   "metadata": {},
   "outputs": [],
   "source": [
    "import numpy as np\n",
    "import matplotlib.pyplot as plt\n",
    "import tensorflow as tf\n",
    "from tensorflow import keras\n",
    "from tensorflow.keras import layers\n",
    "tf.random.set_seed(0)"
   ]
  },
  {
   "cell_type": "code",
   "execution_count": 2,
   "metadata": {},
   "outputs": [],
   "source": [
    "def NN_plot(nn):\n",
    "    nn.compile(loss = 'mse')\n",
    "    xgrid = np.linspace(-20,20,401)\n",
    "    y = nn.predict(xgrid)\n",
    "    plt.plot(xgrid,y)\n",
    "    plt.grid()\n",
    "#     plt.show()"
   ]
  },
  {
   "cell_type": "code",
   "execution_count": 4,
   "metadata": {},
   "outputs": [
    {
     "data": {
      "image/png": "[encoded data removed]",
      "text/plain": [
       "<Figure size 432x288 with 1 Axes>"
      ]
     },
     "metadata": {
      "needs_background": "light"
     },
     "output_type": "display_data"
    }
   ],
   "source": [
    "# Control Neural Network: u(x)\n",
    "\n",
    "inputs = keras.Input(shape=(1))\n",
    "l1 = layers.Dense(8, activation = 'elu')\n",
    "l2 = layers.Dense(8, activation = 'elu')\n",
    "l3= layers.Dense(1, activation = 'linear')\n",
    "outputs = l1(inputs)\n",
    "outputs = l2(outputs)\n",
    "outputs = l3(outputs)\n",
    "# outputs = -inputs\n",
    "control_NN = keras.Model(inputs=inputs, outputs=outputs, name = 'control_NN')\n",
    "# control_NN.summary()\n",
    "NN_plot(control_NN)"
   ]
  },
  {
   "cell_type": "code",
   "execution_count": 5,
   "metadata": {},
   "outputs": [
    {
     "data": {
      "image/png": "[encoded data removed]",
      "text/plain": [
       "<Figure size 432x288 with 1 Axes>"
      ]
     },
     "metadata": {
      "needs_background": "light"
     },
     "output_type": "display_data"
    }
   ],
   "source": [
    "# Value Neural Network: V(x)\n",
    "\n",
    "inputs = keras.Input(shape=(1))\n",
    "l1 = layers.Dense(8, activation = 'elu')\n",
    "l2 = layers.Dense(8, activation = 'elu')\n",
    "l3= layers.Dense(1, activation = 'linear')\n",
    "outputs = l1(inputs)\n",
    "outputs = l2(outputs)\n",
    "outputs = l3(outputs)\n",
    "outputs = tf.math.square(inputs)\n",
    "value_NN = keras.Model(inputs=inputs, outputs=outputs, name = 'value_NN')\n",
    "# value_NN.summary()\n",
    "NN_plot(value_NN)"
   ]
  },
  {
   "cell_type": "code",
   "execution_count": 6,
   "metadata": {},
   "outputs": [],
   "source": [
    "# Global Parameter\n",
    "steps = 100\n",
    "dt = 0.01\n",
    "sqrtdt = np.sqrt(dt)\n",
    "T = steps * dt\n",
    "M = 1000"
   ]
  },
  {
   "cell_type": "markdown",
   "metadata": {},
   "source": [
    "Let $X$ be controlled processes on $[0,\\infty)$ meshed with $0 = t_{0} \\leq t_{1} \\leq \\cdots $ with initial distribution $X_{0} \\sim \\mathcal{X}$ and $V_0, \\rho_0$ initiated. \n",
    "     \\begin{equation}\n",
    "          \\left\\{\n",
    "          \\begin{aligned}\n",
    "               \\rho_{n} &=  \\min_{u \\in U}\\frac{1}{\\triangle t_{n+1}}\\mathbb{E}\\Big[\\int_{t_{n}}^{t_{n+1}}c(X_{s},u_{s})ds + V_{n}(X_{t_{n+1}}) - V_{n}(X_{t_{n}})\\Big]\\\\\n",
    "               V_{n+1}(x) &= \\min_{u\\in U}\\mathbb{E}\\big[\\int_{t_{n}}^{t_{n+1}}c(X_{s}^{x},u_{s})ds + V_{n}(X_{t_{n+1}}^x) -\\rho_{n} \\triangle t_{n+1} \\big]\n",
    "          \\end{aligned}\n",
    "          \\right.\n",
    "     \\end{equation}"
   ]
  },
  {
   "cell_type": "markdown",
   "metadata": {},
   "source": [
    "the number of points needed for grid increase exponentially with the growth of dimension of $x$. Therefore, meshing and Monte Carlo estimate leads to the curse of dimensionality. To avoid this, we attempt the machine learning approach computing the second line of algorithm\n",
    "\\begin{equation}\n",
    "       V_{n+1}(x) = \\arg\\min_{V^{\\theta} \\in \\mathcal{NN}}\\mathbb{E}\\Bigg[\\Bigg( \\int_{t_{n}}^{t_{n+1}}c(X_{s}^{x},u_{s})ds + V_{n}(X_{t_{n+1}}^x) -\\rho_{n} \\triangle t_{n+1} - V^{\\theta}(X_{t_{n}}) \\Bigg)^2\\Bigg] \\\\\n",
    "\\end{equation}"
   ]
  },
  {
   "cell_type": "code",
   "execution_count": 7,
   "metadata": {
    "scrolled": true
   },
   "outputs": [],
   "source": [
    "# First line of algorithm\n",
    "\n",
    "input_x = keras.Input(shape=(1))\n",
    "inputs = [input_x]\n",
    "X_start = input_x\n",
    "X_now = X_start\n",
    "loss = tf.zeros_like(X_now)\n",
    "loss_output = [loss]\n",
    "\n",
    "for i in range(steps):\n",
    "    input_dW = keras.Input(shape=(1))\n",
    "    inputs = inputs + [input_dW]\n",
    "    u_now = control_NN(X_now)\n",
    "    X_next  = X_now + input_dW + u_now * dt\n",
    "    loss_tmp = (tf.math.square(X_now) + tf.math.square(u_now))*dt\n",
    "    loss_output = loss_output + [loss_tmp]\n",
    "    loss = loss + loss_tmp\n",
    "    X_now = X_next\n",
    "outputs = (loss + value_NN(X_now) - value_NN(X_start))/T\n",
    "\n",
    "control_main = keras.Model(inputs=inputs, outputs = outputs, name = 'control_main')\n",
    "control_terminal = keras.Model(inputs=inputs, outputs = X_now, name = 'control_terminal')\n",
    "control_loss = keras.Model(inputs=inputs, outputs = loss_output, name = 'control_loss')\n",
    "# control_loss.summary()\n",
    "\n",
    "def mean_loss(target_y, predicted_y):\n",
    "    return tf.reduce_mean(predicted_y - target_y)\n",
    "\n",
    "control_main.compile(loss = mean_loss)\n",
    "control_terminal.compile(loss = mean_loss)\n",
    "control_loss.compile(loss = mean_loss)"
   ]
  },
  {
   "cell_type": "code",
   "execution_count": 8,
   "metadata": {},
   "outputs": [],
   "source": [
    "def trainning_data(seed,X0,samplesM):\n",
    "    np.random.seed(seed)\n",
    "    x = [X0]\n",
    "    for i in range(steps):\n",
    "        x = x + [np.random.normal(0,sqrtdt,size = (samplesM,1))]\n",
    "    y = np.zeros(shape = (samplesM,1))\n",
    "    return x, y"
   ]
  },
  {
   "cell_type": "code",
   "execution_count": 9,
   "metadata": {},
   "outputs": [],
   "source": [
    "np.random.seed(0)\n",
    "# X0 = np.random.normal(0,1,size = (M,1))\n",
    "X0 = np.random.normal(0,np.sqrt(1/2),size = (M,1))\n",
    "# X0 = np.ones(shape = (M,1))\n",
    "# X0 = np.zeros(shape = (M,1))\n",
    "x_train, y_train = trainning_data(1,X0,M)\n",
    "x_valid, y_valid = trainning_data(2,X0,M)\n",
    "x_test, y_test = trainning_data(3,X0,M)"
   ]
  },
  {
   "cell_type": "code",
   "execution_count": 10,
   "metadata": {
    "scrolled": true
   },
   "outputs": [
    {
     "name": "stdout",
     "output_type": "stream",
     "text": [
      "1000/1000 [==============================] - 3s 3ms/sample - loss: 1.0970\n"
     ]
    },
    {
     "data": {
      "text/plain": [
       "1.0970032358169555"
      ]
     },
     "execution_count": 10,
     "metadata": {},
     "output_type": "execute_result"
    }
   ],
   "source": [
    "control_main.evaluate(x_train,y_train)"
   ]
  },
  {
   "cell_type": "code",
   "execution_count": 11,
   "metadata": {},
   "outputs": [
    {
     "name": "stdout",
     "output_type": "stream",
     "text": [
      "Train on 1000 samples, validate on 1000 samples\n",
      "Epoch 1/20\n",
      "1000/1000 [==============================] - 14s 14ms/sample - loss: 1.0088 - val_loss: 1.0276\n",
      "Epoch 2/20\n",
      "1000/1000 [==============================] - 2s 2ms/sample - loss: 0.9821 - val_loss: 1.0246\n",
      "Epoch 3/20\n",
      "1000/1000 [==============================] - 2s 2ms/sample - loss: 0.9808 - val_loss: 1.0228\n",
      "Epoch 4/20\n",
      "1000/1000 [==============================] - 2s 2ms/sample - loss: 0.9794 - val_loss: 1.0227\n",
      "Epoch 5/20\n",
      "1000/1000 [==============================] - 2s 2ms/sample - loss: 0.9783 - val_loss: 1.0219\n",
      "Epoch 6/20\n",
      "1000/1000 [==============================] - 2s 2ms/sample - loss: 0.9781 - val_loss: 1.0207\n",
      "Epoch 7/20\n",
      "1000/1000 [==============================] - 2s 2ms/sample - loss: 0.9778 - val_loss: 1.0196\n",
      "Epoch 8/20\n",
      "1000/1000 [==============================] - 2s 2ms/sample - loss: 0.9772 - val_loss: 1.0197\n",
      "Epoch 9/20\n",
      "1000/1000 [==============================] - 2s 2ms/sample - loss: 0.9771 - val_loss: 1.0216\n",
      "Epoch 10/20\n",
      "1000/1000 [==============================] - 2s 2ms/sample - loss: 0.9772 - val_loss: 1.0202\n",
      "Epoch 11/20\n",
      "1000/1000 [==============================] - 2s 2ms/sample - loss: 0.9767 - val_loss: 1.0188\n",
      "Epoch 12/20\n",
      "1000/1000 [==============================] - 2s 2ms/sample - loss: 0.9765 - val_loss: 1.0202\n",
      "Epoch 13/20\n",
      "1000/1000 [==============================] - 2s 2ms/sample - loss: 0.9765 - val_loss: 1.0196\n",
      "Epoch 14/20\n",
      "1000/1000 [==============================] - 2s 2ms/sample - loss: 0.9770 - val_loss: 1.0212\n",
      "Epoch 15/20\n",
      "1000/1000 [==============================] - 2s 2ms/sample - loss: 0.9769 - val_loss: 1.0196\n",
      "Epoch 16/20\n",
      "1000/1000 [==============================] - 2s 2ms/sample - loss: 0.9765 - val_loss: 1.0192\n",
      "Epoch 17/20\n",
      "1000/1000 [==============================] - 2s 2ms/sample - loss: 0.9766 - val_loss: 1.0196\n",
      "Epoch 18/20\n",
      "1000/1000 [==============================] - 2s 2ms/sample - loss: 0.9761 - val_loss: 1.0183\n",
      "Epoch 19/20\n",
      "1000/1000 [==============================] - 2s 2ms/sample - loss: 0.9768 - val_loss: 1.0201\n",
      "Epoch 20/20\n",
      "1000/1000 [==============================] - 2s 2ms/sample - loss: 0.9759 - val_loss: 1.0220\n"
     ]
    },
    {
     "data": {
      "text/plain": [
       "<tensorflow.python.keras.callbacks.History at 0x1cf2e9c1080>"
      ]
     },
     "execution_count": 11,
     "metadata": {},
     "output_type": "execute_result"
    }
   ],
   "source": [
    "control_main.fit(x_train,y_train,epochs = 20,validation_data = (x_valid,y_valid), verbose = 1)"
   ]
  },
  {
   "cell_type": "code",
   "execution_count": 61,
   "metadata": {},
   "outputs": [
    {
     "data": {
      "image/png": "[encoded data removed]",
      "text/plain": [
       "<Figure size 432x288 with 1 Axes>"
      ]
     },
     "metadata": {
      "needs_background": "light"
     },
     "output_type": "display_data"
    },
    {
     "data": {
      "image/png": "[encoded data removed]",
      "text/plain": [
       "<Figure size 432x288 with 1 Axes>"
      ]
     },
     "metadata": {
      "needs_background": "light"
     },
     "output_type": "display_data"
    }
   ],
   "source": [
    "NN_plot(control_NN)\n",
    "plt.show()\n",
    "NN_plot(value_NN)\n",
    "plt.show()"
   ]
  }
 ],
 "metadata": {
  "kernelspec": {
   "display_name": "Python 3",
   "language": "python",
   "name": "python3"
  },
  "language_info": {
   "codemirror_mode": {
    "name": "ipython",
    "version": 3
   },
   "file_extension": ".py",
   "mimetype": "text/x-python",
   "name": "python",
   "nbconvert_exporter": "python",
   "pygments_lexer": "ipython3",
   "version": "3.7.2"
  }
 },
 "nbformat": 4,
 "nbformat_minor": 4
}
