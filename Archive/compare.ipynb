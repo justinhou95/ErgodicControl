{
 "cells": [
  {
   "cell_type": "code",
   "execution_count": 1,
   "metadata": {},
   "outputs": [],
   "source": [
    "from importlib import reload  \n",
    "import numpy as np\n",
    "import matplotlib.pyplot as plt\n",
    "import tensorflow as tf\n",
    "from tensorflow import keras\n",
    "from tensorflow.keras import layers\n",
    "tf.random.set_seed(0)"
   ]
  },
  {
   "cell_type": "code",
   "execution_count": 2,
   "metadata": {},
   "outputs": [
    {
     "data": {
      "text/plain": [
       "<module 'OUmodel' from 'C:\\\\SongyanHou\\\\Study\\\\Codes\\\\ErgodicControl\\\\OUmodel.py'>"
      ]
     },
     "execution_count": 2,
     "metadata": {},
     "output_type": "execute_result"
    }
   ],
   "source": [
    "import MBSDEmodel\n",
    "import OUmodel\n",
    "reload(MBSDEmodel)\n",
    "reload(OUmodel)"
   ]
  },
  {
   "cell_type": "code",
   "execution_count": 3,
   "metadata": {},
   "outputs": [],
   "source": [
    "# Discreize parameters\n",
    "steps = 20\n",
    "dt = 0.01\n",
    "sqrtdt = np.sqrt(dt)\n",
    "T = steps * dt # 0.2\n",
    "M = 1000\n",
    "gamma = 0"
   ]
  },
  {
   "cell_type": "code",
   "execution_count": 4,
   "metadata": {},
   "outputs": [
    {
     "data": {
      "text/plain": [
       "-0.03200132476049318"
      ]
     },
     "execution_count": 4,
     "metadata": {},
     "output_type": "execute_result"
    }
   ],
   "source": [
    "# Initialize the model \n",
    "np.random.seed(0)\n",
    "# X_initial = np.zeros(shape = (M,1))\n",
    "X_initial = np.random.normal(0,np.sqrt(1/2),size = (M,1))\n",
    "model = MBSDEmodel.MODEL(steps,dt,T,M)\n",
    "model.nn()\n",
    "model.start(X_initial)\n",
    "model.traindata(0)\n",
    "model.dyna(name = 'bm')\n",
    "model.build()\n",
    "X_initial.mean()"
   ]
  },
  {
   "cell_type": "code",
   "execution_count": 5,
   "metadata": {},
   "outputs": [
    {
     "data": {
      "text/plain": [
       "-0.03200132476049318"
      ]
     },
     "execution_count": 5,
     "metadata": {},
     "output_type": "execute_result"
    }
   ],
   "source": [
    "np.random.seed(0)\n",
    "X = np.random.normal(0,np.sqrt(1/2),size = (M,1))\n",
    "Y = np.random.normal(0,0,size = (M,1))\n",
    "U = Y -  X\n",
    "Z = np.concatenate([U,Y],axis = 1)\n",
    "OUmodel = OUmodel.MODEL(steps,dt,T,M,gamma)\n",
    "OUmodel.start(U, Y)\n",
    "OUmodel.traindata(0)\n",
    "OUmodel.build()\n",
    "X.mean()"
   ]
  },
  {
   "cell_type": "code",
   "execution_count": 6,
   "metadata": {},
   "outputs": [
    {
     "data": {
      "text/plain": [
       "(<tf.Variable 'dense_19/kernel:0' shape=(1, 1) dtype=float32, numpy=array([[-1.0558105]], dtype=float32)>,\n",
       " <tf.Variable 'dense/kernel:0' shape=(1, 8) dtype=float32, numpy=\n",
       " array([[-0.33970317, -0.479175  ,  0.05779284,  0.10003304, -0.13607001,\n",
       "          0.5026809 , -0.0110634 ,  0.81344163]], dtype=float32)>,\n",
       " <tf.Variable 'dense_19/kernel:0' shape=(1, 1) dtype=float32, numpy=array([[-1.0558105]], dtype=float32)>,\n",
       " <tf.Variable 'dense/kernel:0' shape=(1, 8) dtype=float32, numpy=\n",
       " array([[-0.33970317, -0.479175  ,  0.05779284,  0.10003304, -0.13607001,\n",
       "          0.5026809 , -0.0110634 ,  0.81344163]], dtype=float32)>,\n",
       " <tf.Variable 'dense_23/kernel:0' shape=(1, 1) dtype=float32, numpy=array([[-1.269028]], dtype=float32)>,\n",
       " <tf.Variable 'dense_6/kernel:0' shape=(1, 1) dtype=float32, numpy=array([[-1.269028]], dtype=float32)>)"
      ]
     },
     "execution_count": 6,
     "metadata": {},
     "output_type": "execute_result"
    }
   ],
   "source": [
    "OUmodel.unn.trainable_variables[0],model.unn.trainable_variables[0],\\\n",
    "OUmodel.unn.trainable_variables[0],model.unn.trainable_variables[0],\\\n",
    "OUmodel.rhonn.trainable_variables[0],model.rhonn.trainable_variables[0]"
   ]
  },
  {
   "cell_type": "code",
   "execution_count": 7,
   "metadata": {},
   "outputs": [
    {
     "name": "stdout",
     "output_type": "stream",
     "text": [
      "1000/1000 [==============================] - 1s 677us/sample - loss: 0.0036\n",
      "1000/1000 [==============================] - 1s 1ms/sample - loss: 0.0036\n"
     ]
    },
    {
     "data": {
      "text/plain": [
       "-9.303912523218882e-10"
      ]
     },
     "execution_count": 7,
     "metadata": {},
     "output_type": "execute_result"
    }
   ],
   "source": [
    "a, b = model.optnn.evaluate(model.x_test,model.y_test, verbose = 1),\\\n",
    "OUmodel.opt_nn.evaluate(OUmodel.x_test,OUmodel.y_test, verbose = 1)\n",
    "a-b"
   ]
  },
  {
   "cell_type": "code",
   "execution_count": 7,
   "metadata": {},
   "outputs": [
    {
     "name": "stdout",
     "output_type": "stream",
     "text": [
      "1000/1000 [==============================] - 1s 965us/sample - loss: 0.0438\n"
     ]
    },
    {
     "ename": "AttributeError",
     "evalue": "'MODEL' object has no attribute 'bm_nn'",
     "output_type": "error",
     "traceback": [
      "\u001b[1;31m---------------------------------------------------------------------------\u001b[0m",
      "\u001b[1;31mAttributeError\u001b[0m                            Traceback (most recent call last)",
      "\u001b[1;32m<ipython-input-7-fad96b7e99c4>\u001b[0m in \u001b[0;36m<module>\u001b[1;34m\u001b[0m\n\u001b[0;32m      1\u001b[0m \u001b[0mmodel\u001b[0m\u001b[1;33m.\u001b[0m\u001b[0mmainnn\u001b[0m\u001b[1;33m.\u001b[0m\u001b[0mevaluate\u001b[0m\u001b[1;33m(\u001b[0m\u001b[0mmodel\u001b[0m\u001b[1;33m.\u001b[0m\u001b[0mx_train\u001b[0m\u001b[1;33m,\u001b[0m\u001b[0mmodel\u001b[0m\u001b[1;33m.\u001b[0m\u001b[0my_train\u001b[0m\u001b[1;33m)\u001b[0m\u001b[1;33m,\u001b[0m\u001b[0;31m\\\u001b[0m\u001b[1;33m\u001b[0m\u001b[1;33m\u001b[0m\u001b[0m\n\u001b[1;32m----> 2\u001b[1;33m \u001b[0mOUmodel\u001b[0m\u001b[1;33m.\u001b[0m\u001b[0mbm_nn\u001b[0m\u001b[1;33m.\u001b[0m\u001b[0mevaluate\u001b[0m\u001b[1;33m(\u001b[0m\u001b[0mOUmodel\u001b[0m\u001b[1;33m.\u001b[0m\u001b[0mx_train\u001b[0m\u001b[1;33m,\u001b[0m\u001b[0mOUmodel\u001b[0m\u001b[1;33m.\u001b[0m\u001b[0my_train\u001b[0m\u001b[1;33m)\u001b[0m\u001b[1;33m\u001b[0m\u001b[1;33m\u001b[0m\u001b[0m\n\u001b[0m",
      "\u001b[1;31mAttributeError\u001b[0m: 'MODEL' object has no attribute 'bm_nn'"
     ]
    }
   ],
   "source": [
    "model.mainnn.evaluate(model.x_train,model.y_train),\\\n",
    "OUmodel.bm_nn.evaluate(OUmodel.x_train,OUmodel.y_train)"
   ]
  },
  {
   "cell_type": "code",
   "execution_count": null,
   "metadata": {
    "scrolled": true
   },
   "outputs": [],
   "source": [
    "model.mainnn.fit(model.x_train,model.y_train,epochs =200,\\\n",
    "                validation_data = (model.x_valid,model.y_valid), verbose = 0)\n",
    "model.mainnn.evaluate(model.x_test,model.y_test, verbose = 1)\n",
    "model.rhonn.predict(np.zeros(1))[0,0]"
   ]
  },
  {
   "cell_type": "code",
   "execution_count": null,
   "metadata": {},
   "outputs": [],
   "source": [
    "OUmodel.bm_nn.fit(OUmodel.x_train,OUmodel.y_train,\\\n",
    "                  validation_data = (OUmodel.x_val,OUmodel.y_val), epochs =200, verbose = 0)\n",
    "OUmodel.bm_nn.evaluate(OUmodel.x_test,OUmodel.y_test, verbose = 1)\n",
    "OUmodel.rhonn.predict(np.zeros(1))[0,0]"
   ]
  }
 ],
 "metadata": {
  "kernelspec": {
   "display_name": "Python 3",
   "language": "python",
   "name": "python3"
  },
  "language_info": {
   "codemirror_mode": {
    "name": "ipython",
    "version": 3
   },
   "file_extension": ".py",
   "mimetype": "text/x-python",
   "name": "python",
   "nbconvert_exporter": "python",
   "pygments_lexer": "ipython3",
   "version": "3.7.2"
  }
 },
 "nbformat": 4,
 "nbformat_minor": 4
}
