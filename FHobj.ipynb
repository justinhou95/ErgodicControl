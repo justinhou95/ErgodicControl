{
 "cells": [
  {
   "cell_type": "code",
   "execution_count": 1,
   "metadata": {},
   "outputs": [],
   "source": [
    "import numpy as np\n",
    "import matplotlib.pyplot as plt\n",
    "import tensorflow as tf\n",
    "from tensorflow import keras\n",
    "from tensorflow.keras import layers\n",
    "tf.random.set_seed(0)\n",
    "import FHmodel\n",
    "import FHnn"
   ]
  },
  {
   "cell_type": "code",
   "execution_count": 2,
   "metadata": {},
   "outputs": [],
   "source": [
    "# Discreize parameters\n",
    "steps = 100\n",
    "dt = 0.1\n",
    "sqrtdt = np.sqrt(dt)\n",
    "T = steps * dt\n",
    "M = 1000"
   ]
  },
  {
   "cell_type": "code",
   "execution_count": 3,
   "metadata": {},
   "outputs": [],
   "source": [
    "# FHnn.show()"
   ]
  },
  {
   "cell_type": "code",
   "execution_count": 4,
   "metadata": {},
   "outputs": [],
   "source": [
    "# Initialize the model \n",
    "\n",
    "X_initial = np.zeros(shape = (M,1))\n",
    "# X_initial = np.random.normal(0,np.sqrt(1/2),size = (M,1))\n",
    "\n",
    "model = FHmodel.MODEL(steps,dt,T,M)\n",
    "model.nn(FHnn.control_NN)\n",
    "model.start(X_initial)\n",
    "model.traindata(1)\n",
    "model.build()"
   ]
  },
  {
   "cell_type": "code",
   "execution_count": 5,
   "metadata": {},
   "outputs": [
    {
     "name": "stdout",
     "output_type": "stream",
     "text": [
      "1000/1000 [==============================] - 2s 2ms/sample - loss: 1.0084\n",
      "Cost under optimal ergodic control:  1.0083972034454345\n",
      "Train on 1000 samples, validate on 1000 samples\n",
      "Epoch 1/20\n",
      "1000/1000 [==============================] - 17s 17ms/sample - loss: 2.4434 - val_loss: 1.5605\n",
      "Epoch 2/20\n",
      "1000/1000 [==============================] - 2s 2ms/sample - loss: 1.3513 - val_loss: 1.1589\n",
      "Epoch 3/20\n",
      "1000/1000 [==============================] - 2s 2ms/sample - loss: 1.0906 - val_loss: 1.0275\n",
      "Epoch 4/20\n",
      "1000/1000 [==============================] - 2s 2ms/sample - loss: 1.0227 - val_loss: 1.0093\n",
      "Epoch 5/20\n",
      "1000/1000 [==============================] - 2s 2ms/sample - loss: 1.0154 - val_loss: 1.0063\n",
      "Epoch 6/20\n",
      "1000/1000 [==============================] - 2s 2ms/sample - loss: 1.0125 - val_loss: 1.0051\n",
      "Epoch 7/20\n",
      "1000/1000 [==============================] - 2s 2ms/sample - loss: 1.0108 - val_loss: 1.0036\n",
      "Epoch 8/20\n",
      "1000/1000 [==============================] - 2s 2ms/sample - loss: 1.0095 - val_loss: 1.0036\n",
      "Epoch 9/20\n",
      "1000/1000 [==============================] - 2s 2ms/sample - loss: 1.0093 - val_loss: 1.0022\n",
      "Epoch 10/20\n",
      "1000/1000 [==============================] - 2s 2ms/sample - loss: 1.0086 - val_loss: 1.0018\n",
      "Epoch 11/20\n",
      "1000/1000 [==============================] - 2s 2ms/sample - loss: 1.0084 - val_loss: 1.0023\n",
      "Epoch 12/20\n",
      "1000/1000 [==============================] - 2s 2ms/sample - loss: 1.0082 - val_loss: 1.0012\n",
      "Epoch 13/20\n",
      "1000/1000 [==============================] - 2s 2ms/sample - loss: 1.0077 - val_loss: 1.0028\n",
      "Epoch 14/20\n",
      "1000/1000 [==============================] - 2s 2ms/sample - loss: 1.0078 - val_loss: 1.0013\n",
      "Epoch 15/20\n",
      "1000/1000 [==============================] - 2s 2ms/sample - loss: 1.0075 - val_loss: 1.0027\n",
      "Epoch 16/20\n",
      "1000/1000 [==============================] - 2s 2ms/sample - loss: 1.0076 - val_loss: 1.0016\n",
      "Epoch 17/20\n",
      "1000/1000 [==============================] - 2s 2ms/sample - loss: 1.0077 - val_loss: 1.0011\n",
      "Epoch 18/20\n",
      "1000/1000 [==============================] - 2s 2ms/sample - loss: 1.0072 - val_loss: 1.0018\n",
      "Epoch 19/20\n",
      "1000/1000 [==============================] - 2s 2ms/sample - loss: 1.0071 - val_loss: 1.0010\n",
      "Epoch 20/20\n",
      "1000/1000 [==============================] - 2s 2ms/sample - loss: 1.0074 - val_loss: 1.0014\n"
     ]
    },
    {
     "data": {
      "image/png": "[encoded data removed]",
      "text/plain": [
       "<Figure size 432x288 with 1 Axes>"
      ]
     },
     "metadata": {
      "needs_background": "light"
     },
     "output_type": "display_data"
    }
   ],
   "source": [
    "model.optimal()\n",
    "model.train(epo = 10, verb = 1)\n",
    "model.plot_compare()"
   ]
  },
  {
   "cell_type": "code",
   "execution_count": 6,
   "metadata": {},
   "outputs": [
    {
     "data": {
      "text/plain": [
       "(0.031687185, 0.5739393)"
      ]
     },
     "execution_count": 6,
     "metadata": {},
     "output_type": "execute_result"
    }
   ],
   "source": [
    "model.end()\n",
    "model.Xend.mean(), model.Xend.var()"
   ]
  }
 ],
 "metadata": {
  "kernelspec": {
   "display_name": "Python 3",
   "language": "python",
   "name": "python3"
  },
  "language_info": {
   "codemirror_mode": {
    "name": "ipython",
    "version": 3
   },
   "file_extension": ".py",
   "mimetype": "text/x-python",
   "name": "python",
   "nbconvert_exporter": "python",
   "pygments_lexer": "ipython3",
   "version": "3.7.2"
  }
 },
 "nbformat": 4,
 "nbformat_minor": 4
}
