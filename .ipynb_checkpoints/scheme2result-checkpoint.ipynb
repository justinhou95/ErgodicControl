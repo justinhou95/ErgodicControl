{
 "cells": [
  {
   "cell_type": "code",
   "execution_count": 5,
   "metadata": {},
   "outputs": [
    {
     "name": "stdout",
     "output_type": "stream",
     "text": [
      "TensorFlow version: 2.1.0\n",
      "Eager execution: True\n"
     ]
    },
    {
     "data": {
      "text/plain": [
       "<module 'scheme2' from 'C:\\\\SongyanHou\\\\Study\\\\Codes\\\\ErgodicControl\\\\scheme2.py'>"
      ]
     },
     "execution_count": 5,
     "metadata": {},
     "output_type": "execute_result"
    }
   ],
   "source": [
    "import tensorflow as tf\n",
    "from tensorflow import keras\n",
    "from tensorflow.keras import layers\n",
    "import numpy as np\n",
    "import matplotlib.pyplot as plt\n",
    "print(\"TensorFlow version: {}\".format(tf.__version__))\n",
    "print(\"Eager execution: {}\".format(tf.executing_eagerly()))\n",
    "from IPython import display\n",
    "# %matplotlib\n",
    "from mpl_toolkits import mplot3d \n",
    "from importlib import reload  \n",
    "import scheme2\n",
    "reload(scheme2)"
   ]
  },
  {
   "cell_type": "code",
   "execution_count": 12,
   "metadata": {},
   "outputs": [],
   "source": [
    "dt = 0.01\n",
    "N = 100\n",
    "M = 100\n",
    "T = dt*N\n",
    "gamma = 2\n",
    "Y_var_start = 0\n",
    "UminusY_var_start = 0\n",
    "S = scheme2.scheme2(N,dt,M,gamma)"
   ]
  },
  {
   "cell_type": "code",
   "execution_count": null,
   "metadata": {},
   "outputs": [
    {
     "name": "stdout",
     "output_type": "stream",
     "text": [
      "dt: 0.01 N: 100 M: 100 T: 1.0\n",
      "Y_var_start: 0 UminusY_var_start: 0\n",
      "epochs: 1000\n",
      "Compiling..........\n"
     ]
    }
   ],
   "source": [
    "S.neural_network()\n",
    "S.compile()\n",
    "S.train(1000)"
   ]
  }
 ],
 "metadata": {
  "kernelspec": {
   "display_name": "Python 3",
   "language": "python",
   "name": "python3"
  },
  "language_info": {
   "codemirror_mode": {
    "name": "ipython",
    "version": 3
   },
   "file_extension": ".py",
   "mimetype": "text/x-python",
   "name": "python",
   "nbconvert_exporter": "python",
   "pygments_lexer": "ipython3",
   "version": "3.7.2"
  }
 },
 "nbformat": 4,
 "nbformat_minor": 4
}
