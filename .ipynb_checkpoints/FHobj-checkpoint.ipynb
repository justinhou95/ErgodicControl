{
 "cells": [
  {
   "cell_type": "code",
   "execution_count": 1,
   "metadata": {},
   "outputs": [],
   "source": [
    "import numpy as np\n",
    "import matplotlib.pyplot as plt\n",
    "import tensorflow as tf\n",
    "from tensorflow import keras\n",
    "from tensorflow.keras import layers\n",
    "tf.random.set_seed(0)"
   ]
  },
  {
   "cell_type": "code",
   "execution_count": 2,
   "metadata": {},
   "outputs": [],
   "source": [
    "import FHmodel"
   ]
  },
  {
   "cell_type": "markdown",
   "metadata": {},
   "source": [
    "## Finite Horizon Approach"
   ]
  },
  {
   "cell_type": "code",
   "execution_count": 3,
   "metadata": {},
   "outputs": [],
   "source": [
    "# Discreize parameters\n",
    "steps = 100\n",
    "dt = 0.1\n",
    "sqrtdt = np.sqrt(dt)\n",
    "T = steps * dt\n",
    "M = 1000"
   ]
  },
  {
   "cell_type": "markdown",
   "metadata": {},
   "source": [
    "## Brownian Motion"
   ]
  },
  {
   "cell_type": "code",
   "execution_count": 4,
   "metadata": {},
   "outputs": [],
   "source": [
    "# Initialize the model \n",
    "X_initial = np.zeros(shape = (M,1))\n",
    "# X_initial = np.random.normal(mean,np.sqrt(var),size = (M,1))\n",
    "\n",
    "model = FHmodel.MODEL(steps,dt,T,M)\n",
    "model.nn(FHmodel.control_NN_initial())\n",
    "model.start(X_initial)\n",
    "model.traindata(1)\n",
    "model.dyna('bm')\n",
    "model.build()"
   ]
  },
  {
   "cell_type": "code",
   "execution_count": 5,
   "metadata": {},
   "outputs": [
    {
     "name": "stdout",
     "output_type": "stream",
     "text": [
      "1000/1000 [==============================] - 2s 2ms/sample - loss: 1.0084: 3s - los\n",
      "Cost under optimal ergodic control:  1.0083972034454345\n",
      "Train on 1000 samples, validate on 1000 samples\n",
      "Epoch 1/10\n",
      "1000/1000 [==============================] - 17s 17ms/sample - loss: 2.4434 - val_loss: 1.5605\n",
      "Epoch 2/10\n",
      "1000/1000 [==============================] - 2s 2ms/sample - loss: 1.3513 - val_loss: 1.1589\n",
      "Epoch 3/10\n",
      "1000/1000 [==============================] - 2s 2ms/sample - loss: 1.0906 - val_loss: 1.0275\n",
      "Epoch 4/10\n",
      "1000/1000 [==============================] - 2s 2ms/sample - loss: 1.0227 - val_loss: 1.0093\n",
      "Epoch 5/10\n",
      "1000/1000 [==============================] - 2s 2ms/sample - loss: 1.0154 - val_loss: 1.0063\n",
      "Epoch 6/10\n",
      "1000/1000 [==============================] - 2s 2ms/sample - loss: 1.0125 - val_loss: 1.0051\n",
      "Epoch 7/10\n",
      "1000/1000 [==============================] - 2s 2ms/sample - loss: 1.0108 - val_loss: 1.0036\n",
      "Epoch 8/10\n",
      "1000/1000 [==============================] - 2s 2ms/sample - loss: 1.0095 - val_loss: 1.0036\n",
      "Epoch 9/10\n",
      "1000/1000 [==============================] - 2s 2ms/sample - loss: 1.0093 - val_loss: 1.0022\n",
      "Epoch 10/10\n",
      "1000/1000 [==============================] - 2s 2ms/sample - loss: 1.0086 - val_loss: 1.0018\n"
     ]
    }
   ],
   "source": [
    "model.optimal()\n",
    "model.train(epo = 10, verb = 1)"
   ]
  },
  {
   "cell_type": "code",
   "execution_count": 6,
   "metadata": {},
   "outputs": [
    {
     "data": {
      "image/png": "[encoded data removed]",
      "text/plain": [
       "<Figure size 432x288 with 1 Axes>"
      ]
     },
     "metadata": {
      "needs_background": "light"
     },
     "output_type": "display_data"
    },
    {
     "name": "stdout",
     "output_type": "stream",
     "text": [
      "Mean: -0.0129791675  Variance:  0.5816278\n"
     ]
    },
    {
     "data": {
      "image/png": "[encoded data removed]",
      "text/plain": [
       "<Figure size 432x288 with 1 Axes>"
      ]
     },
     "metadata": {
      "needs_background": "light"
     },
     "output_type": "display_data"
    }
   ],
   "source": [
    "model.plot_compare()\n",
    "model.end()\n",
    "plt.hist(model.Xend, bins = 25)\n",
    "print('Mean:', model.Xend.mean(), ' Variance: ', model.Xend.var())"
   ]
  },
  {
   "cell_type": "markdown",
   "metadata": {},
   "source": [
    "## Mean Reverting "
   ]
  },
  {
   "cell_type": "code",
   "execution_count": 7,
   "metadata": {},
   "outputs": [],
   "source": [
    "# Initialize the model \n",
    "\n",
    "X_initial = np.zeros(shape = (M,1))\n",
    "# X_initial = np.random.normal(mean,np.sqrt(var),size = (M,1))\n",
    "\n",
    "model = FHmodel.MODEL(steps,dt,T,M)\n",
    "model.nn(FHmodel.control_NN_initial())\n",
    "model.start(X_initial)\n",
    "model.traindata(1)\n",
    "model.dyna('mr')\n",
    "model.build()"
   ]
  },
  {
   "cell_type": "code",
   "execution_count": 8,
   "metadata": {},
   "outputs": [
    {
     "name": "stdout",
     "output_type": "stream",
     "text": [
      "1000/1000 [==============================] - 3s 3ms/sample - loss: 0.8839\n",
      "Cost under optimal ergodic control:  0.8839202318191528\n",
      "Train on 1000 samples, validate on 1000 samples\n",
      "Epoch 1/10\n",
      "1000/1000 [==============================] - 19s 19ms/sample - loss: 0.8921 - val_loss: 0.8843\n",
      "Epoch 2/10\n",
      "1000/1000 [==============================] - 2s 2ms/sample - loss: 0.8823 - val_loss: 0.8849\n",
      "Epoch 3/10\n",
      "1000/1000 [==============================] - 2s 2ms/sample - loss: 0.8823 - val_loss: 0.8838\n",
      "Epoch 4/10\n",
      "1000/1000 [==============================] - 2s 2ms/sample - loss: 0.8822 - val_loss: 0.8848\n",
      "Epoch 5/10\n",
      "1000/1000 [==============================] - 2s 2ms/sample - loss: 0.8823 - val_loss: 0.8838\n",
      "Epoch 6/10\n",
      "1000/1000 [==============================] - 2s 2ms/sample - loss: 0.8821 - val_loss: 0.8847\n",
      "Epoch 7/10\n",
      "1000/1000 [==============================] - 2s 2ms/sample - loss: 0.8821 - val_loss: 0.8838\n",
      "Epoch 8/10\n",
      "1000/1000 [==============================] - 2s 2ms/sample - loss: 0.8821 - val_loss: 0.8841\n",
      "Epoch 9/10\n",
      "1000/1000 [==============================] - 2s 2ms/sample - loss: 0.8821 - val_loss: 0.8837\n",
      "Epoch 10/10\n",
      "1000/1000 [==============================] - 2s 2ms/sample - loss: 0.8821 - val_loss: 0.8839\n"
     ]
    }
   ],
   "source": [
    "model.optimal()\n",
    "model.train(epo = 10, verb = 1)"
   ]
  },
  {
   "cell_type": "code",
   "execution_count": 9,
   "metadata": {},
   "outputs": [
    {
     "data": {
      "image/png": "[encoded data removed]",
      "text/plain": [
       "<Figure size 432x288 with 1 Axes>"
      ]
     },
     "metadata": {
      "needs_background": "light"
     },
     "output_type": "display_data"
    },
    {
     "name": "stdout",
     "output_type": "stream",
     "text": [
      "Mean: 0.5261594  Variance:  0.3881834\n"
     ]
    },
    {
     "data": {
      "image/png": "[encoded data removed]",
      "text/plain": [
       "<Figure size 432x288 with 1 Axes>"
      ]
     },
     "metadata": {
      "needs_background": "light"
     },
     "output_type": "display_data"
    }
   ],
   "source": [
    "model.plot_compare()\n",
    "model.end()\n",
    "plt.hist(model.Xend, bins = 25)\n",
    "print('Mean:', model.Xend.mean(), ' Variance: ', model.Xend.var())"
   ]
  },
  {
   "cell_type": "code",
   "execution_count": 10,
   "metadata": {},
   "outputs": [
    {
     "name": "stdout",
     "output_type": "stream",
     "text": [
      " a: 0.8284271247461903 \n",
      " b: 0.5857864376269049 \n",
      " rho: 0.9142135623730951 \n",
      " mean: 0.5 \n",
      " var: 0.3535533905932738 \n",
      "\n"
     ]
    }
   ],
   "source": [
    "# Optimal coefficients\n",
    "a = 2*(np.sqrt(2) - 1)\n",
    "b = 2 - np.sqrt(2)\n",
    "rho = (2*np.sqrt(2) - 1)/2\n",
    "mean = 1/2\n",
    "var = np.sqrt(1/8)\n",
    "print(' a:',a,'\\n','b:',b,'\\n','rho:',rho,'\\n','mean:',mean,'\\n','var:',var,'\\n',)"
   ]
  }
 ],
 "metadata": {
  "kernelspec": {
   "display_name": "Python 3",
   "language": "python",
   "name": "python3"
  },
  "language_info": {
   "codemirror_mode": {
    "name": "ipython",
    "version": 3
   },
   "file_extension": ".py",
   "mimetype": "text/x-python",
   "name": "python",
   "nbconvert_exporter": "python",
   "pygments_lexer": "ipython3",
   "version": "3.7.2"
  }
 },
 "nbformat": 4,
 "nbformat_minor": 4
}
