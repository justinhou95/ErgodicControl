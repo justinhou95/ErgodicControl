{
 "cells": [
  {
   "cell_type": "code",
   "execution_count": 2,
   "metadata": {},
   "outputs": [],
   "source": [
    "%matplotlib notebook\n",
    "from importlib import reload  \n",
    "import numpy as np\n",
    "import matplotlib.pyplot as plt\n",
    "import tensorflow as tf\n",
    "from tensorflow import keras\n",
    "from tensorflow.keras import layers\n",
    "tf.random.set_seed(1)"
   ]
  },
  {
   "cell_type": "code",
   "execution_count": 15,
   "metadata": {},
   "outputs": [
    {
     "name": "stdout",
     "output_type": "stream",
     "text": [
      "[[0.]]\n",
      "[[0.]]\n",
      "[[1.]]\n",
      "[[0.]]\n"
     ]
    },
    {
     "data": {
      "text/plain": [
       "([array([[1.]], dtype=float32)], [array([[1.]], dtype=float32)])"
      ]
     },
     "execution_count": 15,
     "metadata": {},
     "output_type": "execute_result"
    }
   ],
   "source": [
    "inputs0 = keras.Input(shape=(1))\n",
    "l = layers.Dense(1, activation = 'linear',use_bias = False)\n",
    "outputs0 = l(inputs0)\n",
    "NN = keras.Model(inputs=inputs0, outputs=outputs0)\n",
    "NN.set_weights([np.array([[0]], dtype='float32')])\n",
    "\n",
    "inputs = keras.Input(shape=(1))\n",
    "with tf.GradientTape() as t:\n",
    "    t.watch(inputs)\n",
    "    outputs1 = NN(inputs)\n",
    "    V_nn = keras.Model(inputs=inputs, outputs=outputs1)\n",
    "    outputs2 = t.gradient(outputs1, inputs)\n",
    "    u_nn = keras.Model(inputs=inputs, outputs=outputs2)\n",
    "    \n",
    "print(V_nn.predict(np.array([[1]])))\n",
    "print(u_nn.predict(np.array([[1]]))) \n",
    "NN.set_weights([np.array([[1]], dtype='float32')])  \n",
    "print(V_nn.predict(np.array([[1]])))\n",
    "print(u_nn.predict(np.array([[1]]))) \n",
    "V_nn.get_weights(),\\\n",
    "u_nn.get_weights()"
   ]
  },
  {
   "cell_type": "code",
   "execution_count": 11,
   "metadata": {},
   "outputs": [],
   "source": []
  },
  {
   "cell_type": "code",
   "execution_count": 12,
   "metadata": {},
   "outputs": [
    {
     "data": {
      "text/plain": [
       "(array([[1.]], dtype=float32), array([[0.]], dtype=float32))"
      ]
     },
     "execution_count": 12,
     "metadata": {},
     "output_type": "execute_result"
    }
   ],
   "source": []
  },
  {
   "cell_type": "code",
   "execution_count": 13,
   "metadata": {},
   "outputs": [
    {
     "data": {
      "text/plain": [
       "([array([[1.]], dtype=float32)], [array([[1.]], dtype=float32)])"
      ]
     },
     "execution_count": 13,
     "metadata": {},
     "output_type": "execute_result"
    }
   ],
   "source": [
    "V_nn.get_weights(),\\\n",
    "u_nn.get_weights()"
   ]
  }
 ],
 "metadata": {
  "kernelspec": {
   "display_name": "Python 3",
   "language": "python",
   "name": "python3"
  },
  "language_info": {
   "codemirror_mode": {
    "name": "ipython",
    "version": 3
   },
   "file_extension": ".py",
   "mimetype": "text/x-python",
   "name": "python",
   "nbconvert_exporter": "python",
   "pygments_lexer": "ipython3",
   "version": "3.7.2"
  }
 },
 "nbformat": 4,
 "nbformat_minor": 4
}
