{
 "cells": [
  {
   "cell_type": "code",
   "execution_count": 1,
   "metadata": {},
   "outputs": [],
   "source": [
    "import numpy as np\n",
    "import matplotlib.pyplot as plt\n",
    "import tensorflow as tf\n",
    "from tensorflow import keras\n",
    "from tensorflow.keras import layers\n",
    "import math"
   ]
  },
  {
   "cell_type": "code",
   "execution_count": 3,
   "metadata": {},
   "outputs": [],
   "source": [
    "inputs = keras.Input(shape=(1))\n",
    "l1 = layers.Dense(8, activation = 'elu')\n",
    "l2 = layers.Dense(8, activation = 'elu')\n",
    "l3= layers.Dense(1, activation = 'linear')    \n",
    "outputs = l1(inputs)\n",
    "outputs = l2(outputs)\n",
    "outputs = l3(outputs)\n",
    "control_NN = keras.Model(inputs=inputs, outputs=outputs, name = 'control_NN')"
   ]
  },
  {
   "cell_type": "code",
   "execution_count": 8,
   "metadata": {},
   "outputs": [
    {
     "data": {
      "text/plain": [
       "(1000, 1)"
      ]
     },
     "execution_count": 8,
     "metadata": {},
     "output_type": "execute_result"
    }
   ],
   "source": [
    "M = 1000\n",
    "x = np.random.normal(0,1,size = (M,1))\n",
    "x.shape"
   ]
  },
  {
   "cell_type": "code",
   "execution_count": 16,
   "metadata": {
    "scrolled": true
   },
   "outputs": [
    {
     "name": "stdout",
     "output_type": "stream",
     "text": [
      "Train on 1000 samples\n",
      "Epoch 1/100\n",
      "1000/1000 [==============================] - 0s 298us/sample - loss: 3.0969\n",
      "Epoch 2/100\n",
      "1000/1000 [==============================] - 0s 33us/sample - loss: 1.7160\n",
      "Epoch 3/100\n",
      "1000/1000 [==============================] - 0s 53us/sample - loss: 0.9164\n",
      "Epoch 4/100\n",
      "1000/1000 [==============================] - 0s 38us/sample - loss: 0.4672\n",
      "Epoch 5/100\n",
      "1000/1000 [==============================] - 0s 28us/sample - loss: 0.2383\n",
      "Epoch 6/100\n",
      "1000/1000 [==============================] - 0s 46us/sample - loss: 0.1353\n",
      "Epoch 7/100\n",
      "1000/1000 [==============================] - 0s 37us/sample - loss: 0.0952\n",
      "Epoch 8/100\n",
      "1000/1000 [==============================] - 0s 38us/sample - loss: 0.0798\n",
      "Epoch 9/100\n",
      "1000/1000 [==============================] - 0s 37us/sample - loss: 0.0735\n",
      "Epoch 10/100\n",
      "1000/1000 [==============================] - 0s 41us/sample - loss: 0.0698\n",
      "Epoch 11/100\n",
      "1000/1000 [==============================] - 0s 40us/sample - loss: 0.0670\n",
      "Epoch 12/100\n",
      "1000/1000 [==============================] - 0s 39us/sample - loss: 0.0635\n",
      "Epoch 13/100\n",
      "1000/1000 [==============================] - 0s 37us/sample - loss: 0.0608\n",
      "Epoch 14/100\n",
      "1000/1000 [==============================] - 0s 39us/sample - loss: 0.0579\n",
      "Epoch 15/100\n",
      "1000/1000 [==============================] - 0s 35us/sample - loss: 0.0552\n",
      "Epoch 16/100\n",
      "1000/1000 [==============================] - 0s 41us/sample - loss: 0.0527\n",
      "Epoch 17/100\n",
      "1000/1000 [==============================] - 0s 40us/sample - loss: 0.0502\n",
      "Epoch 18/100\n",
      "1000/1000 [==============================] - 0s 35us/sample - loss: 0.0478\n",
      "Epoch 19/100\n",
      "1000/1000 [==============================] - 0s 44us/sample - loss: 0.0455\n",
      "Epoch 20/100\n",
      "1000/1000 [==============================] - 0s 42us/sample - loss: 0.0431\n",
      "Epoch 21/100\n",
      "1000/1000 [==============================] - 0s 43us/sample - loss: 0.0411\n",
      "Epoch 22/100\n",
      "1000/1000 [==============================] - 0s 41us/sample - loss: 0.0390\n",
      "Epoch 23/100\n",
      "1000/1000 [==============================] - 0s 42us/sample - loss: 0.0370\n",
      "Epoch 24/100\n",
      "1000/1000 [==============================] - 0s 41us/sample - loss: 0.0351\n",
      "Epoch 25/100\n",
      "1000/1000 [==============================] - 0s 43us/sample - loss: 0.0333\n",
      "Epoch 26/100\n",
      "1000/1000 [==============================] - 0s 39us/sample - loss: 0.0316\n",
      "Epoch 27/100\n",
      "1000/1000 [==============================] - 0s 42us/sample - loss: 0.0299\n",
      "Epoch 28/100\n",
      "1000/1000 [==============================] - 0s 40us/sample - loss: 0.0283\n",
      "Epoch 29/100\n",
      "1000/1000 [==============================] - 0s 40us/sample - loss: 0.0270\n",
      "Epoch 30/100\n",
      "1000/1000 [==============================] - 0s 42us/sample - loss: 0.0255\n",
      "Epoch 31/100\n",
      "1000/1000 [==============================] - 0s 36us/sample - loss: 0.0241\n",
      "Epoch 32/100\n",
      "1000/1000 [==============================] - 0s 41us/sample - loss: 0.0229\n",
      "Epoch 33/100\n",
      "1000/1000 [==============================] - 0s 38us/sample - loss: 0.0218\n",
      "Epoch 34/100\n",
      "1000/1000 [==============================] - 0s 38us/sample - loss: 0.0206\n",
      "Epoch 35/100\n",
      "1000/1000 [==============================] - 0s 38us/sample - loss: 0.0195\n",
      "Epoch 36/100\n",
      "1000/1000 [==============================] - 0s 38us/sample - loss: 0.0185\n",
      "Epoch 37/100\n",
      "1000/1000 [==============================] - 0s 35us/sample - loss: 0.0175\n",
      "Epoch 38/100\n",
      "1000/1000 [==============================] - 0s 39us/sample - loss: 0.0166\n",
      "Epoch 39/100\n",
      "1000/1000 [==============================] - 0s 40us/sample - loss: 0.0157\n",
      "Epoch 40/100\n",
      "1000/1000 [==============================] - 0s 35us/sample - loss: 0.0148\n",
      "Epoch 41/100\n",
      "1000/1000 [==============================] - 0s 43us/sample - loss: 0.0142\n",
      "Epoch 42/100\n",
      "1000/1000 [==============================] - 0s 37us/sample - loss: 0.0133\n",
      "Epoch 43/100\n",
      "1000/1000 [==============================] - 0s 39us/sample - loss: 0.0126\n",
      "Epoch 44/100\n",
      "1000/1000 [==============================] - 0s 44us/sample - loss: 0.0119\n",
      "Epoch 45/100\n",
      "1000/1000 [==============================] - 0s 40us/sample - loss: 0.0113\n",
      "Epoch 46/100\n",
      "1000/1000 [==============================] - 0s 38us/sample - loss: 0.0106\n",
      "Epoch 47/100\n",
      "1000/1000 [==============================] - 0s 38us/sample - loss: 0.0100\n",
      "Epoch 48/100\n",
      "1000/1000 [==============================] - 0s 36us/sample - loss: 0.0095\n",
      "Epoch 49/100\n",
      "1000/1000 [==============================] - 0s 37us/sample - loss: 0.0090\n",
      "Epoch 50/100\n",
      "1000/1000 [==============================] - 0s 35us/sample - loss: 0.0084\n",
      "Epoch 51/100\n",
      "1000/1000 [==============================] - ETA: 0s - loss: 0.003 - 0s 38us/sample - loss: 0.0080\n",
      "Epoch 52/100\n",
      "1000/1000 [==============================] - 0s 34us/sample - loss: 0.0075\n",
      "Epoch 53/100\n",
      "1000/1000 [==============================] - 0s 37us/sample - loss: 0.0071\n",
      "Epoch 54/100\n",
      "1000/1000 [==============================] - 0s 35us/sample - loss: 0.0066\n",
      "Epoch 55/100\n",
      "1000/1000 [==============================] - 0s 34us/sample - loss: 0.0063\n",
      "Epoch 56/100\n",
      "1000/1000 [==============================] - 0s 39us/sample - loss: 0.0059\n",
      "Epoch 57/100\n",
      "1000/1000 [==============================] - 0s 36us/sample - loss: 0.0055\n",
      "Epoch 58/100\n",
      "1000/1000 [==============================] - 0s 37us/sample - loss: 0.0052\n",
      "Epoch 59/100\n",
      "1000/1000 [==============================] - 0s 35us/sample - loss: 0.0049\n",
      "Epoch 60/100\n",
      "1000/1000 [==============================] - 0s 39us/sample - loss: 0.0046\n",
      "Epoch 61/100\n",
      "1000/1000 [==============================] - 0s 35us/sample - loss: 0.0043\n",
      "Epoch 62/100\n",
      "1000/1000 [==============================] - 0s 36us/sample - loss: 0.0040\n",
      "Epoch 63/100\n",
      "1000/1000 [==============================] - 0s 34us/sample - loss: 0.0038\n",
      "Epoch 64/100\n",
      "1000/1000 [==============================] - 0s 35us/sample - loss: 0.0036\n",
      "Epoch 65/100\n",
      "1000/1000 [==============================] - 0s 38us/sample - loss: 0.0033\n",
      "Epoch 66/100\n",
      "1000/1000 [==============================] - 0s 37us/sample - loss: 0.0031\n",
      "Epoch 67/100\n",
      "1000/1000 [==============================] - 0s 34us/sample - loss: 0.0029\n",
      "Epoch 68/100\n",
      "1000/1000 [==============================] - 0s 34us/sample - loss: 0.0027\n",
      "Epoch 69/100\n",
      "1000/1000 [==============================] - 0s 38us/sample - loss: 0.0025\n",
      "Epoch 70/100\n",
      "1000/1000 [==============================] - 0s 39us/sample - loss: 0.0023\n",
      "Epoch 71/100\n",
      "1000/1000 [==============================] - 0s 37us/sample - loss: 0.0022\n",
      "Epoch 72/100\n",
      "1000/1000 [==============================] - 0s 37us/sample - loss: 0.0021\n",
      "Epoch 73/100\n",
      "1000/1000 [==============================] - 0s 39us/sample - loss: 0.0019\n",
      "Epoch 74/100\n",
      "1000/1000 [==============================] - 0s 34us/sample - loss: 0.0018\n",
      "Epoch 75/100\n",
      "1000/1000 [==============================] - 0s 34us/sample - loss: 0.0017\n",
      "Epoch 76/100\n",
      "1000/1000 [==============================] - 0s 34us/sample - loss: 0.0016\n",
      "Epoch 77/100\n",
      "1000/1000 [==============================] - 0s 35us/sample - loss: 0.0015\n",
      "Epoch 78/100\n",
      "1000/1000 [==============================] - 0s 38us/sample - loss: 0.0014\n",
      "Epoch 79/100\n",
      "1000/1000 [==============================] - 0s 34us/sample - loss: 0.0013\n",
      "Epoch 80/100\n",
      "1000/1000 [==============================] - 0s 38us/sample - loss: 0.0012\n",
      "Epoch 81/100\n",
      "1000/1000 [==============================] - 0s 34us/sample - loss: 0.0012\n",
      "Epoch 82/100\n",
      "1000/1000 [==============================] - 0s 35us/sample - loss: 0.0011\n",
      "Epoch 83/100\n",
      "1000/1000 [==============================] - 0s 36us/sample - loss: 9.9667e-04\n",
      "Epoch 84/100\n",
      "1000/1000 [==============================] - 0s 36us/sample - loss: 9.4398e-04\n",
      "Epoch 85/100\n",
      "1000/1000 [==============================] - 0s 35us/sample - loss: 8.9529e-04\n",
      "Epoch 86/100\n",
      "1000/1000 [==============================] - 0s 39us/sample - loss: 8.4526e-04\n",
      "Epoch 87/100\n",
      "1000/1000 [==============================] - 0s 39us/sample - loss: 8.0695e-04\n",
      "Epoch 88/100\n",
      "1000/1000 [==============================] - 0s 44us/sample - loss: 7.6122e-04\n",
      "Epoch 89/100\n",
      "1000/1000 [==============================] - 0s 38us/sample - loss: 7.2470e-04\n",
      "Epoch 90/100\n",
      "1000/1000 [==============================] - 0s 37us/sample - loss: 6.9559e-04\n",
      "Epoch 91/100\n",
      "1000/1000 [==============================] - 0s 37us/sample - loss: 6.5421e-04\n",
      "Epoch 92/100\n",
      "1000/1000 [==============================] - 0s 37us/sample - loss: 6.4334e-04\n",
      "Epoch 93/100\n"
     ]
    },
    {
     "name": "stdout",
     "output_type": "stream",
     "text": [
      "1000/1000 [==============================] - 0s 36us/sample - loss: 6.0461e-04\n",
      "Epoch 94/100\n",
      "1000/1000 [==============================] - 0s 37us/sample - loss: 5.8014e-04\n",
      "Epoch 95/100\n",
      "1000/1000 [==============================] - 0s 35us/sample - loss: 6.0877e-04\n",
      "Epoch 96/100\n",
      "1000/1000 [==============================] - 0s 37us/sample - loss: 5.4816e-04\n",
      "Epoch 97/100\n",
      "1000/1000 [==============================] - 0s 36us/sample - loss: 5.0496e-04\n",
      "Epoch 98/100\n",
      "1000/1000 [==============================] - 0s 37us/sample - loss: 5.0304e-04\n",
      "Epoch 99/100\n",
      "1000/1000 [==============================] - 0s 36us/sample - loss: 4.8488e-04\n",
      "Epoch 100/100\n",
      "1000/1000 [==============================] - 0s 37us/sample - loss: 4.6538e-04\n"
     ]
    },
    {
     "data": {
      "text/plain": [
       "<tensorflow.python.keras.callbacks.History at 0x2b3970be7f0>"
      ]
     },
     "execution_count": 16,
     "metadata": {},
     "output_type": "execute_result"
    }
   ],
   "source": [
    "control_NN.compile(loss ='mse',optimizer = 'Adam')\n",
    "control_NN.fit(x = x,y = -x,epochs = 100,verbose = 1)"
   ]
  },
  {
   "cell_type": "code",
   "execution_count": 17,
   "metadata": {},
   "outputs": [
    {
     "data": {
      "text/plain": [
       "[<matplotlib.lines.Line2D at 0x2b3978d0668>]"
      ]
     },
     "execution_count": 17,
     "metadata": {},
     "output_type": "execute_result"
    },
    {
     "data": {
      "image/png": "[encoded data removed]",
      "text/plain": [
       "<Figure size 432x288 with 1 Axes>"
      ]
     },
     "metadata": {
      "needs_background": "light"
     },
     "output_type": "display_data"
    }
   ],
   "source": [
    "xx = np.linspace(-10,10,1000)\n",
    "plt.plot(xx,control_NN.predict(xx))\n",
    "plt.plot(xx,-xx)"
   ]
  },
  {
   "cell_type": "code",
   "execution_count": null,
   "metadata": {},
   "outputs": [],
   "source": []
  },
  {
   "cell_type": "code",
   "execution_count": null,
   "metadata": {},
   "outputs": [],
   "source": []
  },
  {
   "cell_type": "code",
   "execution_count": null,
   "metadata": {},
   "outputs": [],
   "source": []
  },
  {
   "cell_type": "code",
   "execution_count": 34,
   "metadata": {},
   "outputs": [],
   "source": [
    "import numpy as np\n",
    "import matplotlib.pyplot as plt\n",
    "import tensorflow as tf\n",
    "import math"
   ]
  },
  {
   "cell_type": "code",
   "execution_count": 35,
   "metadata": {},
   "outputs": [
    {
     "data": {
      "text/plain": [
       "2.718281828459045"
      ]
     },
     "execution_count": 35,
     "metadata": {},
     "output_type": "execute_result"
    }
   ],
   "source": [
    "math.exp(1)"
   ]
  },
  {
   "cell_type": "code",
   "execution_count": 37,
   "metadata": {},
   "outputs": [],
   "source": [
    "Z = tf.constant([[1,1],[2,2]],dtype = 'float32')"
   ]
  },
  {
   "cell_type": "code",
   "execution_count": 16,
   "metadata": {},
   "outputs": [],
   "source": [
    "x = np.random.rand(1)"
   ]
  },
  {
   "cell_type": "code",
   "execution_count": 38,
   "metadata": {},
   "outputs": [
    {
     "data": {
      "text/plain": [
       "<tf.Tensor: shape=(2, 2), dtype=float32, numpy=\n",
       "array([[3., 3.],\n",
       "       [6., 6.]], dtype=float32)>"
      ]
     },
     "execution_count": 38,
     "metadata": {},
     "output_type": "execute_result"
    }
   ],
   "source": [
    "3*Z"
   ]
  },
  {
   "cell_type": "code",
   "execution_count": 40,
   "metadata": {},
   "outputs": [
    {
     "data": {
      "text/plain": [
       "<tf.Tensor: shape=(2, 2), dtype=float32, numpy=\n",
       "array([[1., 1.],\n",
       "       [2., 2.]], dtype=float32)>"
      ]
     },
     "execution_count": 40,
     "metadata": {},
     "output_type": "execute_result"
    }
   ],
   "source": [
    "math.sqrt(1)*Z"
   ]
  },
  {
   "cell_type": "code",
   "execution_count": 9,
   "metadata": {},
   "outputs": [],
   "source": [
    "U = Z[:,0]\n",
    "Y = Z[:,1]"
   ]
  },
  {
   "cell_type": "code",
   "execution_count": null,
   "metadata": {},
   "outputs": [],
   "source": []
  },
  {
   "cell_type": "code",
   "execution_count": 17,
   "metadata": {},
   "outputs": [],
   "source": [
    "def trainning_data(seed,X0,samplesM,stepsN,dtt,x):\n",
    "    np.random.seed(seed)\n",
    "    X = [X0]\n",
    "    for i in range(stepsN):\n",
    "        dw = np.random.normal(0,np.sqrt(dtt),size = (samplesM,1))\n",
    "        dX = np.exp(-x*dtt)*(X[i] + np.sqrt((np.exp(2*x*dtt)-1)/(2*x*dtt))*dw) - X[i]\n",
    "        X = X + [dX]\n",
    "    y = np.zeros(shape = (samplesM,1))\n",
    "    return X, y"
   ]
  },
  {
   "cell_type": "code",
   "execution_count": 18,
   "metadata": {},
   "outputs": [
    {
     "data": {
      "text/plain": [
       "101"
      ]
     },
     "execution_count": 18,
     "metadata": {},
     "output_type": "execute_result"
    }
   ],
   "source": [
    "len(X)"
   ]
  },
  {
   "cell_type": "code",
   "execution_count": 25,
   "metadata": {},
   "outputs": [
    {
     "data": {
      "text/plain": [
       "array([[ 0.09233453],\n",
       "       [-0.01690541],\n",
       "       [-0.00929328]])"
      ]
     },
     "execution_count": 25,
     "metadata": {},
     "output_type": "execute_result"
    }
   ],
   "source": [
    "X[3]"
   ]
  },
  {
   "cell_type": "code",
   "execution_count": 22,
   "metadata": {},
   "outputs": [],
   "source": [
    "seed = 0\n",
    "samplesM = 3\n",
    "stepsN = 100\n",
    "dtt = 0.01\n",
    "x = 1\n",
    "X0 = np.zeros(shape = (samplesM,1))"
   ]
  },
  {
   "cell_type": "code",
   "execution_count": 23,
   "metadata": {},
   "outputs": [],
   "source": [
    "X,y =trainning_data(seed,X0,samplesM,stepsN,dtt,x)"
   ]
  },
  {
   "cell_type": "code",
   "execution_count": 29,
   "metadata": {},
   "outputs": [],
   "source": [
    "XX = np.zeros(shape = (samplesM,stepsN+1))\n",
    "XX[:,0] = X0[0]\n",
    "for i in range(stepsN):\n",
    "    XX[:,i+1] = XX[:,i] + X[i+1][0]"
   ]
  },
  {
   "cell_type": "code",
   "execution_count": 30,
   "metadata": {},
   "outputs": [
    {
     "data": {
      "text/plain": [
       "[<matplotlib.lines.Line2D at 0x2058b0c1f98>]"
      ]
     },
     "execution_count": 30,
     "metadata": {},
     "output_type": "execute_result"
    },
    {
     "data": {
      "image/png": "[encoded data removed]",
      "text/plain": [
       "<Figure size 432x288 with 1 Axes>"
      ]
     },
     "metadata": {
      "needs_background": "light"
     },
     "output_type": "display_data"
    }
   ],
   "source": [
    "plt.plot(np.arange(101),XX[0,:])"
   ]
  }
 ],
 "metadata": {
  "kernelspec": {
   "display_name": "Python 3",
   "language": "python",
   "name": "python3"
  },
  "language_info": {
   "codemirror_mode": {
    "name": "ipython",
    "version": 3
   },
   "file_extension": ".py",
   "mimetype": "text/x-python",
   "name": "python",
   "nbconvert_exporter": "python",
   "pygments_lexer": "ipython3",
   "version": "3.7.2"
  }
 },
 "nbformat": 4,
 "nbformat_minor": 4
}
