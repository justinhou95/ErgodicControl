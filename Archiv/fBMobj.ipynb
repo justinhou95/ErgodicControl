{
 "cells": [
  {
   "cell_type": "code",
   "execution_count": 1,
   "metadata": {},
   "outputs": [],
   "source": [
    "import math\n",
    "from importlib import reload\n",
    "import numpy as np\n",
    "import matplotlib.pyplot as plt\n",
    "import tensorflow as tf\n",
    "from tensorflow import keras\n",
    "from tensorflow.keras import layers\n",
    "tf.random.set_seed(0)"
   ]
  },
  {
   "cell_type": "code",
   "execution_count": 2,
   "metadata": {},
   "outputs": [],
   "source": [
    "import fBMmodel"
   ]
  },
  {
   "cell_type": "code",
   "execution_count": 24,
   "metadata": {},
   "outputs": [
    {
     "data": {
      "text/plain": [
       "<module 'fBMmodel' from 'C:\\\\SongyanHou\\\\Study\\\\Codes\\\\ErgodicControl\\\\fBMmodel.py'>"
      ]
     },
     "execution_count": 24,
     "metadata": {},
     "output_type": "execute_result"
    }
   ],
   "source": [
    "reload(fBMmodel)"
   ]
  },
  {
   "cell_type": "markdown",
   "metadata": {},
   "source": [
    "## Finite Horizon Approach"
   ]
  },
  {
   "cell_type": "code",
   "execution_count": 25,
   "metadata": {},
   "outputs": [],
   "source": [
    "# Discreize parameters\n",
    "steps = 20\n",
    "dt = 0.01\n",
    "sqrtdt = np.sqrt(dt)\n",
    "T = steps * dt\n",
    "M = 1000\n",
    "n = 100\n",
    "H = 0.3\n",
    "d = n+1"
   ]
  },
  {
   "cell_type": "markdown",
   "metadata": {},
   "source": [
    "## Brownian Motion"
   ]
  },
  {
   "cell_type": "code",
   "execution_count": 26,
   "metadata": {},
   "outputs": [],
   "source": [
    "X_initial = np.zeros(shape = (M,d))\n",
    "model = fBMmodel.MODEL(steps,dt,T,M,n,H)\n",
    "model.nn()\n",
    "model.start(X_initial)\n",
    "model.traindata(1)\n",
    "model.build()"
   ]
  },
  {
   "cell_type": "code",
   "execution_count": 27,
   "metadata": {},
   "outputs": [],
   "source": [
    "model.mainnn.compile(loss = 'mse' , optimizer = 'Adam')"
   ]
  },
  {
   "cell_type": "code",
   "execution_count": 29,
   "metadata": {},
   "outputs": [
    {
     "name": "stdout",
     "output_type": "stream",
     "text": [
      "Train on 1000 samples, validate on 1000 samples\n",
      "Epoch 1/20\n",
      "1000/1000 [==============================] - 7s 7ms/sample - loss: 23.6504 - val_loss: 5.7042\n",
      "Epoch 2/20\n",
      "1000/1000 [==============================] - 1s 723us/sample - loss: 6.2009 - val_loss: 4.3264\n",
      "Epoch 3/20\n",
      "1000/1000 [==============================] - 1s 749us/sample - loss: 5.2437 - val_loss: 3.8056\n",
      "Epoch 4/20\n",
      "1000/1000 [==============================] - 1s 718us/sample - loss: 5.0483 - val_loss: 3.5965\n",
      "Epoch 5/20\n",
      "1000/1000 [==============================] - 1s 690us/sample - loss: 4.7857 - val_loss: 3.4805\n",
      "Epoch 6/20\n",
      "1000/1000 [==============================] - 1s 696us/sample - loss: 4.4969 - val_loss: 3.1450\n",
      "Epoch 7/20\n",
      "1000/1000 [==============================] - 1s 700us/sample - loss: 4.1829 - val_loss: 3.2211\n",
      "Epoch 8/20\n",
      "1000/1000 [==============================] - 1s 705us/sample - loss: 4.0863 - val_loss: 2.6925\n",
      "Epoch 9/20\n",
      "1000/1000 [==============================] - 1s 689us/sample - loss: 3.7176 - val_loss: 2.5587\n",
      "Epoch 10/20\n",
      "1000/1000 [==============================] - 1s 688us/sample - loss: 3.5970 - val_loss: 2.3602\n",
      "Epoch 11/20\n",
      "1000/1000 [==============================] - 1s 715us/sample - loss: 3.3433 - val_loss: 2.2759\n",
      "Epoch 12/20\n",
      "1000/1000 [==============================] - 1s 689us/sample - loss: 3.1780 - val_loss: 2.1187\n",
      "Epoch 13/20\n",
      "1000/1000 [==============================] - 1s 701us/sample - loss: 3.0991 - val_loss: 2.0257\n",
      "Epoch 14/20\n",
      "1000/1000 [==============================] - 1s 679us/sample - loss: 2.8773 - val_loss: 1.9036\n",
      "Epoch 15/20\n",
      "1000/1000 [==============================] - 1s 684us/sample - loss: 2.6913 - val_loss: 1.8066\n",
      "Epoch 16/20\n",
      "1000/1000 [==============================] - 1s 700us/sample - loss: 2.5738 - val_loss: 1.6912\n",
      "Epoch 17/20\n",
      "1000/1000 [==============================] - 1s 693us/sample - loss: 2.4541 - val_loss: 1.7098\n",
      "Epoch 18/20\n",
      "1000/1000 [==============================] - 1s 701us/sample - loss: 2.3447 - val_loss: 1.5054\n",
      "Epoch 19/20\n",
      "1000/1000 [==============================] - 1s 685us/sample - loss: 2.2165 - val_loss: 1.5358\n",
      "Epoch 20/20\n",
      "1000/1000 [==============================] - 1s 705us/sample - loss: 2.2391 - val_loss: 1.6361\n"
     ]
    }
   ],
   "source": [
    "model.train(epochs = 20, optimizer = 'Adam', verbose = 1)"
   ]
  },
  {
   "cell_type": "code",
   "execution_count": null,
   "metadata": {},
   "outputs": [],
   "source": []
  },
  {
   "cell_type": "code",
   "execution_count": null,
   "metadata": {
    "scrolled": true
   },
   "outputs": [],
   "source": [
    "model.autotrain(epo = 20, opt = MBSDEmodel.custom_optimizer)\n",
    "RHO = [model.rhonn.predict(np.zeros(1))[0,0]]\n",
    "for i in range(10):\n",
    "    print(i+2,'th forward iteration')\n",
    "    model.endtostart()\n",
    "    model.autotrain(epo = 20, opt = 'Adam', verb = 1)\n",
    "    print('\\n\\n')\n",
    "    RHO.append(model.rhonn.predict(np.zeros(1))[0,0])"
   ]
  },
  {
   "cell_type": "code",
   "execution_count": null,
   "metadata": {},
   "outputs": [],
   "source": [
    "print(RHO)\n",
    "plt.semilogy(np.abs(np.array(RHO)-1),'o-')\n",
    "plt.grid()\n",
    "plt.show()"
   ]
  },
  {
   "cell_type": "markdown",
   "metadata": {},
   "source": [
    "## Mean Reverting "
   ]
  },
  {
   "cell_type": "code",
   "execution_count": null,
   "metadata": {},
   "outputs": [],
   "source": [
    "# Initialize the model \n",
    "\n",
    "X_initial = np.zeros(shape = (M,1))\n",
    "# X_initial = np.random.normal(0,np.sqrt(1/2),size = (M,1))\n",
    "\n",
    "model = MBSDEmodel.BSDE(steps,dt,T,M)\n",
    "model.nn(MBSDEmodel.initial_control_NN(),MBSDEmodel.initial_value_NN(),\\\n",
    "         MBSDEmodel.initial_rho_NN())\n",
    "model.start(X_initial)\n",
    "model.traindata(1)\n",
    "model.dyna(name = 'mr')\n",
    "model.build()"
   ]
  },
  {
   "cell_type": "code",
   "execution_count": null,
   "metadata": {},
   "outputs": [],
   "source": [
    "model.autotrain(epo = 20, opt = MBSDEmodel.custom_optimizer)\n",
    "RHO = [model.rhonn.predict(np.zeros(1))[0,0]]\n",
    "for i in range(10):\n",
    "    print(i+2,'th forward iteration')\n",
    "    model.endtostart()\n",
    "    model.autotrain(epo = 20, opt = 'Adam', verb = 0)\n",
    "    print('\\n\\n')\n",
    "    RHO.append(model.rhonn.predict(np.zeros(1))[0,0])"
   ]
  },
  {
   "cell_type": "code",
   "execution_count": null,
   "metadata": {
    "scrolled": true
   },
   "outputs": [],
   "source": [
    "rho_optimal = (2*np.sqrt(2) - 1)/2\n",
    "print(RHO)\n",
    "plt.semilogy(np.abs(np.array(RHO)-rho_optimal),'o-')\n",
    "plt.grid()\n",
    "plt.show()"
   ]
  },
  {
   "cell_type": "code",
   "execution_count": null,
   "metadata": {},
   "outputs": [],
   "source": [
    "(2*np.sqrt(2) - 1)/2"
   ]
  },
  {
   "cell_type": "markdown",
   "metadata": {},
   "source": [
    "Performence strongly depends on the distribution it starts with. Starting from the stationary distribution gives relatively good optimal cost, even though the control and value functions looks not good enough. This is because that more trainning are emphasizing on the most likely happens values. If we start with uniform distribution on interval, trainning gives good approximation in L2 sense on interval but not ideal optimal cost.\n"
   ]
  },
  {
   "cell_type": "markdown",
   "metadata": {},
   "source": [
    "A simpler formulation using conditional expectation instead of MBSDE is also applicable. In this case, maybe a GAN structure has to be used for conditional expectation."
   ]
  }
 ],
 "metadata": {
  "kernelspec": {
   "display_name": "Python 3",
   "language": "python",
   "name": "python3"
  },
  "language_info": {
   "codemirror_mode": {
    "name": "ipython",
    "version": 3
   },
   "file_extension": ".py",
   "mimetype": "text/x-python",
   "name": "python",
   "nbconvert_exporter": "python",
   "pygments_lexer": "ipython3",
   "version": "3.7.2"
  }
 },
 "nbformat": 4,
 "nbformat_minor": 4
}
